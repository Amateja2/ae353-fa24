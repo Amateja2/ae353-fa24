{
 "cells": [
  {
   "cell_type": "markdown",
   "id": "2007dcef-1578-445a-8fd6-b583ef5ec03b",
   "metadata": {},
   "source": [
    "# System Dynamics and Equations of Motion"
   ]
  },
  {
   "cell_type": "markdown",
   "id": "767e1101-197f-42ef-9ebe-709765e2fbb7",
   "metadata": {},
   "source": [
    "The first step we will take will be to derive the equations of motion of the system. As usual, the first step in the Lagrangian mechanics approach is to calculate the total kinetic energy of the system and the total potential energy of the system with respect to the generalized coordinates and their derivatives. We can do this using the Python package Sympy."
   ]
  },
  {
   "cell_type": "code",
   "execution_count": null,
   "id": "aa2d7172-1ff1-4c1e-a298-e17ae56b5684",
   "metadata": {},
   "outputs": [],
   "source": [
    "# Import everything we need from SymPy\n",
    "import sympy as sym\n",
    "import numpy as np\n",
    "from sympy import Symbol, Matrix, Function, Derivative, N\n",
    "from sympy import diff, simplify, sin, cos, solve, init_printing, symbols\n",
    "init_printing() # This function will make the outputs of SymPy look prettier and be easier to read"
   ]
  },
  {
   "cell_type": "markdown",
   "id": "ec7ccd74-76d5-448b-8b70-eec019e3b0ba",
   "metadata": {},
   "source": [
    "Now we are going to define the parameters of the system as constants:"
   ]
  },
  {
   "cell_type": "code",
   "execution_count": null,
   "id": "b8201ac3-3d8c-4f81-a59e-d4fc348fcc34",
   "metadata": {},
   "outputs": [],
   "source": [
    "# Constants of the system\n",
    "mp = 0.5      # Mass of the sphere on the top of the frame\n",
    "ixx = 0.03    # Lateral mass moment of inertia of the gimbal\n",
    "izz = 0.04    # Longitudinal mass moment of inertia of the gimbal\n",
    "l = 1.5       # Distance from the center of the gimbal to the center of the sphere on top of the frame\n",
    "g = 9.81      # Acceleration due to gravity\n",
    "rotor_velocity = 100.0 # Fixed angular rate of the gimbal in rad/sec"
   ]
  },
  {
   "cell_type": "markdown",
   "id": "470efed0-1aa0-46c6-97da-1382f24eaf07",
   "metadata": {},
   "source": [
    "Now we make symbols and functions. These are elements of SymPy and can be thought of as exactly the same as symbols (variables) and functions from math."
   ]
  },
  {
   "cell_type": "code",
   "execution_count": null,
   "id": "f2810d67-63d8-41d2-9522-912611ce0e47",
   "metadata": {},
   "outputs": [],
   "source": [
    "# Time is a symbol (variable)\n",
    "t = Symbol('t')\n",
    "\n",
    "# The generalized coordinates and the input torque are both functions of time.\n",
    "# This means that they are initialized as Functions.\n",
    "theta = Function('theta')\n",
    "phi = Function('phi')\n",
    "tau = Function('tau')"
   ]
  },
  {
   "cell_type": "markdown",
   "id": "b58ed89d-26f8-4d53-9806-972960ac4a6e",
   "metadata": {},
   "source": [
    "Now we will start to calculate the energies of the system. We can start by getting the kinetic energy of the mass on top of the frame. We can do this by:\n",
    "1. Defining its position in terms of the generalized coordinates\n",
    "2. Take the derivate of the position with respect to time to get the velocity\n",
    "3. Calculate the kinetic energy from the velocity\n",
    "4. Calculate the potential energy by observation"
   ]
  },
  {
   "cell_type": "code",
   "execution_count": null,
   "id": "29ffc7fa-2d67-4ecd-a0db-bcd149299d8f",
   "metadata": {},
   "outputs": [],
   "source": [
    "# Get the position of the mass\n",
    "pos = Matrix([-l*sin(theta(t)),\n",
    "              0.0,\n",
    "              l*cos(theta(t))])"
   ]
  },
  {
   "cell_type": "code",
   "execution_count": null,
   "id": "0c724ec9-0c2f-45a7-8cff-c8a5b73a41fc",
   "metadata": {},
   "outputs": [],
   "source": [
    "# Take the derivative of position with respect to time\n",
    "vel = diff(pos,t)"
   ]
  },
  {
   "cell_type": "code",
   "execution_count": null,
   "id": "98f3284e-cd2b-4119-bf61-c575bd295b3f",
   "metadata": {},
   "outputs": [],
   "source": [
    "# Get the kinetic energy of the mass from the velocity\n",
    "mass_KE = 0.5 * mp * (vel.T @ vel)[0,0]"
   ]
  },
  {
   "cell_type": "code",
   "execution_count": null,
   "id": "743653dd-b480-4f98-b5c0-7065a059779c",
   "metadata": {},
   "outputs": [],
   "source": [
    "# Get the potential energy of the mass based on its position\n",
    "mass_PE = mp*g*l*cos(theta(t))"
   ]
  },
  {
   "cell_type": "markdown",
   "id": "3baa1cda-9063-43ad-aae1-05ee527b4213",
   "metadata": {},
   "source": [
    "No other parts of the frame or gimbal cage have inertia or mass. This means the only other component that has energy is the gimbal itself. Because it's center of mass doesn't change altitude and is at the origin, the only energy it has is rotational energy. We will calculate that now."
   ]
  },
  {
   "cell_type": "code",
   "execution_count": null,
   "id": "6918cf38-ad1a-4d07-8659-f3fffd745b8b",
   "metadata": {},
   "outputs": [],
   "source": [
    "# The is the rotational rate of the gimbal\n",
    "gimbal_rate = Matrix([Derivative(phi(t), t),\n",
    "                      Derivative(theta(t), t)*cos(phi(t)),\n",
    "                      rotor_velocity - Derivative(theta(t), t)*sin(phi(t))])"
   ]
  },
  {
   "cell_type": "code",
   "execution_count": null,
   "id": "bad4f5ae-7513-44ee-8442-c5521e75e74c",
   "metadata": {},
   "outputs": [],
   "source": [
    "# This is the mass moment of inertia of the gimbal\n",
    "I = Matrix([[ixx, 0.0, 0.0],\n",
    "            [0.0, ixx, 0.0],\n",
    "            [0.0, 0.0, izz]])"
   ]
  },
  {
   "cell_type": "code",
   "execution_count": null,
   "id": "fab497a8-25c0-49c6-997f-22f267993467",
   "metadata": {},
   "outputs": [],
   "source": [
    "# Calculate the rotational energy of the gimbal\n",
    "gimbal_RE = (0.5 * (gimbal_rate.T @ I @ gimbal_rate))[0, 0]"
   ]
  },
  {
   "cell_type": "markdown",
   "id": "587cec0b-5558-4a86-9817-764e74d1af1c",
   "metadata": {},
   "source": [
    "Now we calculate the lagrangian of the system via the formula:$$L=T-V$$ where $T$ is the total kinetic energy and $V$ is the total potential energy."
   ]
  },
  {
   "cell_type": "code",
   "execution_count": null,
   "id": "3bd9ee9a-2aaf-4785-ae1c-eab9a199341e",
   "metadata": {},
   "outputs": [],
   "source": [
    "# Get the lagrangian\n",
    "L = (mass_KE + gimbal_RE) - mass_PE\n",
    "print(\"System Lagrangian:\")\n",
    "L = simplify(L)\n",
    "N(L, 3) # This rounds floating point number to 3 places and then prints to the screen"
   ]
  },
  {
   "cell_type": "markdown",
   "id": "03af18e3-e1ae-452d-93b4-ddfbec903d7c",
   "metadata": {},
   "source": [
    "Finally, we get the equations of motion of the system via the formulas:\n",
    "$$\\frac{d}{dt} \\left( \\frac{\\partial L}{\\partial \\dot{\\theta}} \\right) - \\frac{\\partial L}{\\partial \\theta}=0$$\n",
    "$$\\frac{d}{dt} \\left( \\frac{\\partial L}{\\partial \\dot{\\phi}} \\right) - \\frac{\\partial L}{\\partial \\phi}=\\tau$$"
   ]
  },
  {
   "cell_type": "code",
   "execution_count": null,
   "id": "af552909-12da-4039-b45c-05510279b2cd",
   "metadata": {},
   "outputs": [],
   "source": [
    "# Get the first equation of motion\n",
    "eq1 = diff(diff(L, Derivative(theta(t), t)), t) - diff(L, theta(t))"
   ]
  },
  {
   "cell_type": "code",
   "execution_count": null,
   "id": "1dd9f8d8-adfd-4676-b9cb-ab82784c5491",
   "metadata": {},
   "outputs": [],
   "source": [
    "# Get the second equation of motion\n",
    "eq2 = diff(diff(L, Derivative(phi(t), t)), t) - diff(L, phi(t)) - tau(t)"
   ]
  },
  {
   "cell_type": "markdown",
   "id": "c2b9bf8c-ec4a-4366-bb00-5d8409dbb083",
   "metadata": {},
   "source": [
    "This form of equations of motion is not very helpful to us right now, so next we will place them in standard form. A standard form system of ordinary differential equations satisfy the following requirements\n",
    "* All equations are exactly first order ordinary differential equations\n",
    "* Each equation only has exactly one time derivative variable in it\n",
    "* Each equation has the form $\\frac{d x}{dt} = f(x,y,z,...)$\n",
    "\n",
    "Because the equations of motion above are second order, we need to apply a trick to place them in standard form. Namely, we introduce new variables that increase the number of equations while reducing the order of each equation. For example, let's introduce two new variables, $\\omega_{\\theta}$ and $\\omega_{\\phi}$ that satisfy the standard form ordinary differential equations:\n",
    "$$\\frac{d \\theta}{dt} = \\omega_{\\theta}$$\n",
    "$$\\frac{d \\phi}{dt} = \\omega_{\\phi}$$\n",
    "Then, by taking the derivative of both sides, we see that\n",
    "$$\\frac{d^2 \\theta}{d t^2} = \\frac{d \\omega_{\\theta}}{dt}$$\n",
    "$$\\frac{d^2 \\phi}{d t^2} = \\frac{d \\omega_{\\phi}}{dt}$$\n",
    "Let's make this change of variables to our equations of motion right now."
   ]
  },
  {
   "cell_type": "code",
   "execution_count": null,
   "id": "d538a3c5-38b9-41d0-b398-418e4e4b76c0",
   "metadata": {},
   "outputs": [],
   "source": [
    "# Make the new functions for change of variables\n",
    "omega_theta = Function('omega_theta')\n",
    "omega_phi = Function('omega_phi')"
   ]
  },
  {
   "cell_type": "code",
   "execution_count": null,
   "id": "6e24fd85-7783-43e7-ade7-96753c307d32",
   "metadata": {},
   "outputs": [],
   "source": [
    "# Make the change of variables for equation 1\n",
    "eq1 = eq1.subs({Derivative(theta(t), (t, 2)) : Derivative(omega_theta(t), t), \n",
    "                Derivative(phi(t), (t, 2))   : Derivative(omega_phi(t), t),\n",
    "                Derivative(theta(t), t)      : omega_theta(t),\n",
    "                Derivative(phi(t), t)        : omega_phi(t)})"
   ]
  },
  {
   "cell_type": "code",
   "execution_count": null,
   "id": "850c4751-354a-4375-af1f-7feeef762f1b",
   "metadata": {},
   "outputs": [],
   "source": [
    "# Repeat for equation 2\n",
    "eq2 = eq2.subs({Derivative(theta(t), (t, 2)) : Derivative(omega_theta(t), t), \n",
    "                Derivative(phi(t), (t, 2))   : Derivative(omega_phi(t), t),\n",
    "                Derivative(theta(t), t)      : omega_theta(t),\n",
    "                Derivative(phi(t), t)        : omega_phi(t)})"
   ]
  },
  {
   "cell_type": "markdown",
   "id": "dee74704-8464-41f3-9dc6-8bb6551103da",
   "metadata": {},
   "source": [
    "The final step to place the equations in standard form is to ensure they have the form $\\frac{d x}{dt} = f(x,y,z,...)$. We do this now."
   ]
  },
  {
   "cell_type": "code",
   "execution_count": null,
   "id": "5195cbb2-6b53-4dfb-b745-8009b43740c4",
   "metadata": {},
   "outputs": [],
   "source": [
    "# Solve the equations for Derivative(omega_theta(t), t) and Derivative(omega_phi(t), t)\n",
    "soln = solve([eq1, eq2],\n",
    "              Derivative(omega_theta(t), t),\n",
    "              Derivative(omega_phi(t), t))"
   ]
  },
  {
   "cell_type": "markdown",
   "id": "0b23a772-51cd-4e87-a005-ebe8b746e333",
   "metadata": {},
   "source": [
    "We now have a system of ordinary differential equations in standard from. Specifically, we have:\n",
    "$$\\frac{d \\omega_{\\theta}}{dt} = f_{\\omega_{\\theta}}\\left( \\omega_{\\theta}, \\omega_{\\phi}, \\theta, \\phi, \\tau \\right)$$\n",
    "$$\\frac{d \\omega_{\\phi}}{dt} = f_{\\omega_{\\phi}}\\left( \\omega_{\\theta}, \\omega_{\\phi}, \\theta, \\phi, \\tau \\right)$$\n",
    "$$\\frac{d \\theta}{dt} = f_{\\theta}\\left( \\omega_{\\theta}, \\omega_{\\phi}, \\theta, \\phi, \\tau \\right)$$\n",
    "$$\\frac{d \\phi}{dt} = f_{\\phi}\\left( \\omega_{\\theta}, \\omega_{\\phi}, \\theta, \\phi, \\tau \\right)$$"
   ]
  },
  {
   "cell_type": "markdown",
   "id": "11ed19b3-65ad-45ae-a895-e3ee0cf2855b",
   "metadata": {},
   "source": [
    "Let's now combine the right hand side of this system into a single vector."
   ]
  },
  {
   "cell_type": "code",
   "execution_count": null,
   "id": "516ad47b-2a41-4faf-a618-ff3457072119",
   "metadata": {},
   "outputs": [],
   "source": [
    "# Build the equations of motion vector\n",
    "f = Matrix([soln[Derivative(omega_theta(t), t)],\n",
    "            soln[Derivative(omega_phi(t), t)],\n",
    "            omega_theta(t),\n",
    "            omega_phi(t)])\n",
    "\n",
    "# Replace the functions of time with symbols\n",
    "(v1, v2, v3, v4, v5) = symbols('v1, v2, v3, v4, v5')\n",
    "f = f.subs({omega_theta(t) : v1,\n",
    "            omega_phi(t) : v2,\n",
    "            theta(t) : v3,\n",
    "            phi(t) : v4,\n",
    "            tau(t) : v5})\n",
    "(omega_theta, omega_phi, theta, phi, tau) = symbols('omega_theta, omega_phi, theta, phi, tau')\n",
    "f = f.subs({v1 : omega_theta,\n",
    "            v2 : omega_phi,\n",
    "            v3 : theta,\n",
    "            v4 : phi,\n",
    "            v5 : tau})\n",
    "\n",
    "# Simplify\n",
    "f = simplify(f)"
   ]
  },
  {
   "cell_type": "markdown",
   "id": "6f2261c7-ea35-4995-a2fe-2a1b669efb59",
   "metadata": {},
   "source": [
    "$f$ is our system model such that\n",
    "$$\n",
    "\\begin{bmatrix}\n",
    "\\dot{\\omega}_{\\theta} \\\\\n",
    "\\dot{\\omega}_{\\phi} \\\\\n",
    "\\dot{\\theta} \\\\\n",
    "\\dot{\\phi} \\\\\n",
    "\\end{bmatrix} = f(\\omega_{\\theta}, \\omega_{\\phi}, \\theta, \\phi, \\tau)\n",
    "$$"
   ]
  },
  {
   "cell_type": "code",
   "execution_count": null,
   "id": "ee7b1ff2-088e-4341-873f-4e2fee104370",
   "metadata": {},
   "outputs": [],
   "source": [
    "N(f, 3)  # This rounds floating point number to 3 places and then prints to the screen"
   ]
  },
  {
   "cell_type": "markdown",
   "id": "891c2270-326e-4730-85a3-5c1b88cf0dae",
   "metadata": {},
   "source": [
    "# System Linearization and State Space Form"
   ]
  },
  {
   "cell_type": "markdown",
   "id": "ff09599b-af6e-461d-b1f0-b383a78edbd1",
   "metadata": {},
   "source": [
    "## Find an Equilibrium Point"
   ]
  },
  {
   "cell_type": "markdown",
   "id": "1e9010db-9ea4-4604-ad06-d3af15d008df",
   "metadata": {},
   "source": [
    "We first chose a candidate equilibrium point, then we verify that $f(m_e, n_e) = 0$ to confirm our candidate equilibrium point is valid."
   ]
  },
  {
   "cell_type": "code",
   "execution_count": null,
   "id": "79fc0d5f-a8fa-4e02-8cd2-0d4868472ab3",
   "metadata": {},
   "outputs": [],
   "source": [
    "# Get the equilibirum state\n",
    "omega_theta_e = 0.0\n",
    "omega_phi_e = 0.0 \n",
    "theta_e = 0.0\n",
    "phi_e = 0.0\n",
    "tau_e = 0.0\n",
    "\n",
    "# Ensure this is an equilibrium point\n",
    "f.subs({omega_theta : omega_theta_e,\n",
    "        omega_phi : omega_phi_e,\n",
    "        theta : theta_e,\n",
    "        phi : phi_e,\n",
    "        tau : tau_e})"
   ]
  },
  {
   "cell_type": "markdown",
   "id": "b96d5ee2-6c74-4a9e-b499-aad806faea3d",
   "metadata": {},
   "source": [
    "## Linearize the System to get A and B"
   ]
  },
  {
   "cell_type": "markdown",
   "id": "c3a83aad-881d-4c7e-a672-05c8ace8dfed",
   "metadata": {},
   "source": [
    "We now linearize the system about our equilibrium point to get the $A$ and $B$ matrices."
   ]
  },
  {
   "cell_type": "code",
   "execution_count": null,
   "id": "9d3a8e41-8b04-4c4a-91ae-ac5f42aa38f6",
   "metadata": {},
   "outputs": [],
   "source": [
    "# Get the A matrix\n",
    "states = Matrix([omega_theta, omega_phi, theta, phi])\n",
    "A = f.jacobian(states).subs({omega_theta : omega_theta_e,\n",
    "                             omega_phi : omega_phi_e,\n",
    "                             theta : theta_e,\n",
    "                             phi : phi_e,\n",
    "                             tau : tau_e})\n",
    "N(A, 3) # Display A"
   ]
  },
  {
   "cell_type": "code",
   "execution_count": null,
   "id": "f4b54146-de5c-4d88-883d-50cd30cf6720",
   "metadata": {},
   "outputs": [],
   "source": [
    "# Get the B matrix\n",
    "input = Matrix([tau])\n",
    "B = f.jacobian(input).subs({omega_theta : omega_theta_e,\n",
    "                            omega_phi : omega_phi_e,\n",
    "                            theta : theta_e,\n",
    "                            phi : phi_e,\n",
    "                            tau : tau_e})\n",
    "N(B, 3) # Display B"
   ]
  },
  {
   "cell_type": "markdown",
   "id": "1fdd56e4-9025-4c72-85e6-c1f6bafc615d",
   "metadata": {},
   "source": [
    "# Gain Selection and Controller Design"
   ]
  },
  {
   "cell_type": "markdown",
   "id": "9b374f1c-2bda-44ed-9ec5-5d2eee0a4269",
   "metadata": {},
   "source": [
    "Here we use a pole placement algorithm provided by scipy to chose a gain matrix, $K$. We then verify this gain matrix stablizes the linear model of the system."
   ]
  },
  {
   "cell_type": "code",
   "execution_count": null,
   "id": "1cdc05c4-68b2-454a-b4b1-95e5126ce33b",
   "metadata": {},
   "outputs": [],
   "source": [
    "# Use pole placement for gains\n",
    "from scipy.signal import place_poles\n",
    "A = np.array(A).astype(np.float64)\n",
    "B = np.array(B).astype(np.float64)\n",
    "poles = np.array([-70, -8, -6.6, -0.03])\n",
    "full_state_feedback = place_poles(A, B, poles, method='YT')\n",
    "K = full_state_feedback.gain_matrix\n",
    "print(K)"
   ]
  },
  {
   "cell_type": "code",
   "execution_count": null,
   "id": "1746b987-3336-44d1-903f-e79c9827eacc",
   "metadata": {},
   "outputs": [],
   "source": [
    "# Check to ensure the closed-loop system is stable\n",
    "F = A-B@K\n",
    "val, vec, = np.linalg.eig(F)\n",
    "print(val)"
   ]
  },
  {
   "cell_type": "code",
   "execution_count": null,
   "id": "6edbadb8-4d14-4a26-8a40-d9ea0bafb9d8",
   "metadata": {},
   "outputs": [],
   "source": [
    "# Create the Controller class\n",
    "class Controller():\n",
    "    def __init__(self):\n",
    "        \"\"\"\n",
    "        Initializes the controller. You should initialize any member variables that\n",
    "        the controller will use to their starting values. This function is called\n",
    "        when a new instance of the Controller class is created.\n",
    "    \n",
    "        Parameters\n",
    "        ----------\n",
    "        None.\n",
    "    \n",
    "        Returns\n",
    "        -------\n",
    "        None.\n",
    "        \"\"\"\n",
    "        # Set control gains\n",
    "        self.K = K \n",
    "\n",
    "        # Set the equilibrium point\n",
    "        self.m_e = np.array([omega_theta_e,\n",
    "                             omega_phi_e, \n",
    "                             theta_e,\n",
    "                             phi_e])\n",
    "        self.n_e = np.array([tau_e])\n",
    "\n",
    "        # Make an empty array to track \n",
    "    \n",
    "    def reset(self):\n",
    "        \"\"\"\n",
    "        Resets the controller to an initial state. You should reset any variables\n",
    "        that track states, times, etc. in this function. This function will be \n",
    "        called just before the simulation starts running and any time the simulation\n",
    "        is reset.\n",
    "    \n",
    "        Parameters\n",
    "        ----------\n",
    "        None.\n",
    "    \n",
    "        Returns\n",
    "        -------\n",
    "        None.\n",
    "        \"\"\"\n",
    "        # We do not use the reset function for this controller.\n",
    "        pass \n",
    "\n",
    "    \n",
    "    def run(self, **kwargs):\n",
    "        \"\"\"\n",
    "        Runs the controller. Data is passed from the simulation environment to the\n",
    "        controller via kwargs, the controller calculates the inputs to the system,\n",
    "        and then returns them via a return statement\n",
    "    \n",
    "        Parameters\n",
    "        ----------\n",
    "        **kwargs : Dictionary\n",
    "            A dictionary of data passed from the simulation environment to the \n",
    "            controller. Specific data is extracted from kwargs via the statement:\n",
    "            kwargs[\"KEYWORD\"], where \"KEYWORD\" is a key to the dictionary. The keys\n",
    "            of kwargs for this project are as follows:\n",
    "\n",
    "            kwargs[\"frame_angle\"] : Float\n",
    "                The current angle of the frame in radians (theta)\n",
    "\n",
    "            kwargs[\"gimbal_angle\"] : Float\n",
    "                The current target angle of the gimbal in radians (phi)\n",
    "\n",
    "            kwargs[\"frame_velocity\"] : Float\n",
    "                The current angular velocity of the frame in radians/second\n",
    "\n",
    "            kwargs[\"gimbal_velocity\"] : Float\n",
    "                The current angular velocity of the gimbal in radians/second\n",
    "\n",
    "            kwargs[\"rotor_velocity\"] : Float\n",
    "                The current angular velocity of the rotor in radians/second\n",
    "\n",
    "            kwargs[\"time\"] : Float\n",
    "                The current simulation time in seconds\n",
    "            \n",
    "    \n",
    "        Returns\n",
    "        -------\n",
    "        inputs : List with length equal to the number of inputs\n",
    "            This is a list of the inputs calculated by the controller. In this\n",
    "            project, there is only one input, the torque to be applied to the \n",
    "            gimbal. Even though there is only one input in this project,\n",
    "            it still must be placed in a list of length one.\n",
    "        \n",
    "        \"\"\"\n",
    "        # Calculate the inputs using control gains (u = -K@x)\n",
    "        m = np.array([kwargs[\"frame_velocity\"],\n",
    "                      kwargs[\"gimbal_velocity\"],\n",
    "                      kwargs[\"frame_angle\"],\n",
    "                      kwargs[\"gimbal_angle\"]])\n",
    "        x = m - self.m_e\n",
    "        u = -self.K @ x\n",
    "\n",
    "        # Format and return the inputs\n",
    "        n = u + self.n_e\n",
    "        inputs = n.tolist()\n",
    "        return inputs"
   ]
  },
  {
   "cell_type": "code",
   "execution_count": null,
   "id": "cad55a09-a7f1-447c-9ce9-63a4c30c04d0",
   "metadata": {},
   "outputs": [],
   "source": [
    "# Create an instance of our Controller class\n",
    "controller = Controller()"
   ]
  },
  {
   "cell_type": "markdown",
   "id": "07745bc4-061f-4cec-9f00-04f0233a10f5",
   "metadata": {},
   "source": [
    "# Running the simulation"
   ]
  },
  {
   "cell_type": "markdown",
   "id": "bddd7571-508b-470c-98f9-ac9ca7d9f4b9",
   "metadata": {},
   "source": [
    "Before we run the simulation, we must first import the simulation module and then create an instance of the simulator. This is done below:"
   ]
  },
  {
   "cell_type": "code",
   "execution_count": null,
   "id": "8c605231-7331-4390-b253-b22b9c205fce",
   "metadata": {},
   "outputs": [],
   "source": [
    "# Import the cmg project. This module is used to simulate, render, and plot the dynamic system\n",
    "import ae353_cmg"
   ]
  },
  {
   "cell_type": "code",
   "execution_count": null,
   "id": "00f52642-97ac-43ca-957d-4102c79cba87",
   "metadata": {},
   "outputs": [],
   "source": [
    "# Create an instance of the cart simulator\n",
    "sim = ae353_cmg.CMG_sim(use_keyboard=True,\n",
    "                        animation=False,\n",
    "                        visualization=True)"
   ]
  },
  {
   "cell_type": "markdown",
   "id": "c3ee3eea-1f34-4d95-91fd-f1c981508461",
   "metadata": {},
   "source": [
    "Now we are ready to run the simulation and collect data. To do this we call the ``sim.run()`` function. This function takes an instance of the ``Controller`` class as an argument and returns ``data``. The parameters and return values of ``sim.run()`` are shown below.\n",
    "\n",
    "#### Parameters\n",
    "\n",
    "> **controller** : *member of Controller class*  \n",
    "> Your controller that will generated inputs to the system.\n",
    "> \n",
    "> **max_time** : *Float or None, optional*  \n",
    "> The total amount of time the simulation is allowed to run. If set to None, the simulation will run until \"ESC\" is pressed on the keyboard. If the keyboard is disabled (Mac users), and max_time is set to None, the simulation will automatically terminate after 10 seconds of simulated time. The default value is None.\n",
    "> \n",
    "> **initial_frame_angle** : *Float, optional*  \n",
    "> The initial angle of the frame in radians. This is set when the simulation starts and when the simulation is reset. The default value is 0.0.\n",
    "> \n",
    "> **initial_gimbal_angle** : *Float, optional*  \n",
    "> The initial angle of the gimbal in radians. This is set when the simulation starts and when the simulation is reset. The default value is 0.0.\n",
    "> \n",
    "> **initial_frame_velocity** : *Float, optional*  \n",
    "> The initial velocity of the frame in radians/second. This is set when the simulation starts and when the simulation is reset. The default value is 0.0.\n",
    "> \n",
    "> **initial_gimbal_velocity** : *Float, optional*  \n",
    "> The initial velocity of the gimbal in radians/second. This is set when the simulation starts and when the simulation is reset. The default value is 0.0.\n",
    ">\n",
    "> **rotor_velocity** : *Float, optional*  \n",
    "> The fixed velocity of the rotor. Remember, if this is changed, the dynamics will also be changed. Make sure to update your controller accordingly! The default value is 100.0.\n",
    ">\n",
    "> **frame_damping** : *Float, optional*  \n",
    "> The damping applied to the frame axle. If set to 0, no energy is lost. Anything greater than 0 results in energy loss while the frame is moving. The default value is 0.1.\n",
    "\n",
    "#### Returns\n",
    "\n",
    "> **data** : *Dictionary of Lists*  \n",
    "> A dictionary containing all relevant data generated during the simulation. Specific data is extracted via the statement: data[\"KEYWORD\"], where \"KEYWORD\" is a key to the dictionary. The keys of data for this project are as follows:\n",
    "> \n",
    "> **data[\"frame_angle\"]** : *List of Floats*  \n",
    "> A list of the frame angle in radians at each time stamp during the simulation.\n",
    "> \n",
    "> **data[\"gimbal_angle\"]** : *List of Floats*  \n",
    "> A list of the gimbal angle in radians at each time stamp during the simulation.\n",
    "> \n",
    "> **data[\"frame_velocity\"]** : *List of Floats*  \n",
    "> A list of the frame velocity in radians/secondat each time stamp during the simulation.\n",
    "> \n",
    "> **data[\"gimbal_velocity\"]** : *List of Floats*  \n",
    "> A list of the gimbal velocity in radians/second at each time stamp during the simulation.\n",
    ">\n",
    "> **data[\"rotor_velocity\"]** : *List of Floats*  \n",
    "> A list of the rotor velocity in radians/secondat each time stamp during the simulation.\n",
    "> \n",
    "> **data[\"torque\"]** : *List of Floats*  \n",
    "> A list of the applied torque in Newton-meters at each time stamp during the simulation.\n",
    "> \n",
    "> **data[\"time\"]** : *List of Floats*  \n",
    "> A list of the time stamps in seconds."
   ]
  },
  {
   "cell_type": "markdown",
   "id": "738da352-14fa-4ba8-aa3f-bf1ab26ea392",
   "metadata": {},
   "source": [
    "If enabled you can use the keyboard to interact with the simulation:  \n",
    "* press **ENTER** to start the simulation\n",
    "* press **BACKSPACE** to reset the simulation\n",
    "* press **SPACE** to pause the simulation\n",
    "* press **ESC** to end the simulation\n",
    "\n",
    "If the manual controller is being used:\n",
    "* press **a** to apply small negative torque to the gimbal\n",
    "* press **SHIFT+a** to apply large negative torque to the gimbal\n",
    "* press **d** to apply small positive torque to the gimbal\n",
    "* press **SHIFT+d** to apply large positive torque to the gimbal "
   ]
  },
  {
   "cell_type": "code",
   "execution_count": null,
   "id": "ecb140d3-bc3a-472b-a0f7-466f7599d92a",
   "metadata": {},
   "outputs": [],
   "source": [
    "# Run the simulation and collect the simulation data\n",
    "data = sim.run(controller,\n",
    "               max_time = None,\n",
    "               initial_frame_angle = np.pi/8.75,\n",
    "               initial_gimbal_angle = 0.0,\n",
    "               initial_frame_velocity = 0.0,\n",
    "               initial_gimbal_velocity = 0.0,\n",
    "               rotor_velocity = rotor_velocity,\n",
    "               frame_damping = 0.1)"
   ]
  },
  {
   "cell_type": "markdown",
   "id": "0bd45d6e-4fa1-4088-8263-f197ad953584",
   "metadata": {},
   "source": [
    "# Post-processing the simulation data"
   ]
  },
  {
   "cell_type": "markdown",
   "id": "7041aa72-e632-4ac8-8d38-81621af6effe",
   "metadata": {},
   "source": [
    "After the simulation is run, we can plot the data using the Matplotlib package. To start, we import matplotlib."
   ]
  },
  {
   "cell_type": "code",
   "execution_count": null,
   "id": "fc40d3d1-f430-47f3-8fb0-3f11d32ecb1f",
   "metadata": {},
   "outputs": [],
   "source": [
    "# Import the pyplot module from the matplotlib package\n",
    "import matplotlib.pyplot as plt"
   ]
  },
  {
   "cell_type": "markdown",
   "id": "0d106a42-eb3d-4022-abfc-e0325523e3b5",
   "metadata": {},
   "source": [
    "Now we can make whichever plots we see fit to make sense of the simulation data. Here we plot the pendulum versus time as well as the applied torque versus time."
   ]
  },
  {
   "cell_type": "code",
   "execution_count": null,
   "id": "b5eefec6-0aad-4e7a-ad60-7e0430923e94",
   "metadata": {},
   "outputs": [],
   "source": [
    "# Create a figure that has two plots in it\n",
    "fig, axes = plt.subplots(2, 1, figsize=(7.2, 5.4), sharex=True)\n",
    "\n",
    "# Create a plot of the frame and gimbal angles versus time on the first plot\n",
    "axes[0].plot(data['time'], data['frame_angle'], label=\"Frame\", c='k', lw=2.5)\n",
    "axes[0].plot(data['time'], data['gimbal_angle'], label=\"Gimbal\", c='r', lw=2.5)\n",
    "axes[0].set_ylabel(\"Angle [rad]\", fontsize=12)\n",
    "axes[0].tick_params(axis='y', labelsize=12)\n",
    "axes[0].legend(fontsize=12, shadow=True)\n",
    "axes[0].set_title(\"State vs. Time\", fontsize=14)\n",
    "axes[0].grid()\n",
    "\n",
    "# Create a plot of the torque versus time on the second plot\n",
    "axes[1].plot(data['time'], data['torque'], label=\"Torque\", c='b', lw=2.5)\n",
    "axes[1].set_xlabel(\"Time [s]\", fontsize=12)\n",
    "axes[1].set_ylabel(\"Torque [Nm]\", fontsize=12)\n",
    "axes[1].tick_params(axis='y', labelsize=12)\n",
    "axes[1].set_title(\"Torque vs. Time\", fontsize=14)\n",
    "axes[1].grid()\n",
    "\n",
    "# Show the figure\n",
    "fig.tight_layout(pad=2.0)\n",
    "plt.show()"
   ]
  }
 ],
 "metadata": {
  "kernelspec": {
   "display_name": "Python 3 (ipykernel)",
   "language": "python",
   "name": "python3"
  },
  "language_info": {
   "codemirror_mode": {
    "name": "ipython",
    "version": 3
   },
   "file_extension": ".py",
   "mimetype": "text/x-python",
   "name": "python",
   "nbconvert_exporter": "python",
   "pygments_lexer": "ipython3",
   "version": "3.10.11"
  }
 },
 "nbformat": 4,
 "nbformat_minor": 5
}
