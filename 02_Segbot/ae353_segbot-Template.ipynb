{
 "cells": [
  {
   "cell_type": "markdown",
   "id": "78a30e88-b28f-484e-b4cf-cfefa9e8affb",
   "metadata": {
    "jp-MarkdownHeadingCollapsed": true
   },
   "source": [
    "## Equations of Motion Given"
   ]
  },
  {
   "cell_type": "code",
   "execution_count": 1,
   "id": "a7af259f",
   "metadata": {},
   "outputs": [
    {
     "data": {
      "text/latex": [
       "$\\displaystyle \\left[\\begin{matrix}v \\sin{\\left(\\phi \\right)}\\\\\\frac{- 18.4325593081475 \\tau_{l} - 18.4325593081475 \\tau_{r} - 14.377396260355 \\left(\\dot{\\phi}^{2} + \\dot{\\theta}^{2}\\right) \\sin{\\left(\\theta \\right)} + 37.4411360946746 \\cdot \\left(0.48 \\dot{\\phi}^{2} \\sin{\\left(2 \\theta \\right)} - \\tau_{l} - \\tau_{r} + 23.544 \\sin{\\left(\\theta \\right)}\\right) \\cos{\\left(\\theta \\right)}}{89.858726627219 \\cos^{2}{\\left(\\theta \\right)} - 93.4559114706628}\\\\\\frac{- 1.056 \\dot{\\phi} \\dot{\\theta} \\sin{\\left(2 \\theta \\right)} - 2.4 \\dot{\\phi} v \\sin{\\left(\\theta \\right)} - 1.07692307692308 \\tau_{l} + 1.07692307692308 \\tau_{r}}{0.96 \\sin^{2}{\\left(\\theta \\right)} + 1.02645798816568}\\\\\\frac{- 7.48822721893491 \\dot{\\phi}^{2} \\sin{\\left(2 \\theta \\right)} + 15.6004733727811 \\tau_{l} + 15.6004733727811 \\tau_{r} + 2.4 \\cdot \\left(3.07692307692308 \\tau_{l} + 3.07692307692308 \\tau_{r} + 2.4 \\left(\\dot{\\phi}^{2} + \\dot{\\theta}^{2}\\right) \\sin{\\left(\\theta \\right)}\\right) \\cos{\\left(\\theta \\right)} - 367.297545088757 \\sin{\\left(\\theta \\right)}}{5.76 \\cos^{2}{\\left(\\theta \\right)} - 5.99058177514793}\\end{matrix}\\right]$"
      ],
      "text/plain": [
       "⎡                                                                             \n",
       "⎢                                                                             \n",
       "⎢                                                                             \n",
       "⎢                -18.4325593081475⋅τₗ - 18.4325593081475⋅τᵣ - 14.377396260355⋅\n",
       "⎢                ─────────────────────────────────────────────────────────────\n",
       "⎢                                                                             \n",
       "⎢                                                                     89.85872\n",
       "⎢                                                                             \n",
       "⎢                                                  -1.056⋅φ̇⋅θ̇⋅sin(2⋅θ) - 2.4\n",
       "⎢                                                  ───────────────────────────\n",
       "⎢                                                                             \n",
       "⎢                                                                          0.9\n",
       "⎢                                                                             \n",
       "⎢                    2                                                        \n",
       "⎢- 7.48822721893491⋅φ̇ ⋅sin(2⋅θ) + 15.6004733727811⋅τₗ + 15.6004733727811⋅τᵣ +\n",
       "⎢─────────────────────────────────────────────────────────────────────────────\n",
       "⎢                                                                             \n",
       "⎣                                                                          5.7\n",
       "\n",
       "         v⋅sin(φ)                                                             \n",
       "                                                                              \n",
       "⎛ 2    2⎞                           ⎛      2                                  \n",
       "⎝φ̇  + θ̇ ⎠⋅sin(θ) + 37.4411360946746⋅⎝0.48⋅φ̇ ⋅sin(2⋅θ) - τₗ - τᵣ + 23.544⋅si\n",
       "──────────────────────────────────────────────────────────────────────────────\n",
       "           2                                                                  \n",
       "6627219⋅cos (θ) - 93.4559114706628                                            \n",
       "                                                                              \n",
       "⋅φ̇⋅v⋅sin(θ) - 1.07692307692308⋅τₗ + 1.07692307692308⋅τᵣ                      \n",
       "─────────────────────────────────────────────────────                         \n",
       "     2                                                                        \n",
       "6⋅sin (θ) + 1.02645798816568                                                  \n",
       "                                                                              \n",
       "    ⎛                                                ⎛ 2    2⎞       ⎞        \n",
       " 2.4⋅⎝3.07692307692308⋅τₗ + 3.07692307692308⋅τᵣ + 2.4⋅⎝φ̇  + θ̇ ⎠⋅sin(θ)⎠⋅cos(\n",
       "──────────────────────────────────────────────────────────────────────────────\n",
       "     2                                                                        \n",
       "6⋅cos (θ) - 5.99058177514793                                                  \n",
       "\n",
       "                         ⎤\n",
       "                         ⎥\n",
       " ⎞                       ⎥\n",
       "n(θ)⎠⋅cos(θ)                ⎥\n",
       "─────────                ⎥\n",
       "                         ⎥\n",
       "                         ⎥\n",
       "                         ⎥\n",
       "                            ⎥\n",
       "                         ⎥\n",
       "                         ⎥\n",
       "                         ⎥\n",
       "                         ⎥\n",
       "                         ⎥\n",
       "θ) - 367.297545088757⋅sin(θ)⎥\n",
       "─────────────────────────⎥\n",
       "                         ⎥\n",
       "                         ⎦"
      ]
     },
     "execution_count": 1,
     "metadata": {},
     "output_type": "execute_result"
    }
   ],
   "source": [
    "# Import everything we need from SymPy\n",
    "import sympy as sym\n",
    "import numpy as np\n",
    "from sympy import Symbol, Matrix\n",
    "from sympy import N as N_sympy\n",
    "from sympy import simplify, sin, cos, init_printing\n",
    "init_printing() # This function will make the outputs of SymPy look prettier and be easier to read\n",
    "\n",
    "# Constants of the system\n",
    "m_c = 12.0    # Mass of the chassis in kg\n",
    "ixx_c = 1.0   # Roll mass moment of ineria of the chassis\n",
    "iyy_c = 0.8   # Pitch mass moment of interia of the chassis\n",
    "izz_c = 0.52  # Yaw mass moment of interia of the chassis\n",
    "\n",
    "m_w = 1.2       # Mass of either wheel in kg\n",
    "iaa_w = 0.0634  # Axial mass moment of interia of the wheels\n",
    "itt_w = 0.0327  # Transverse mass moment of interia of the wheels\n",
    "r_w = 0.325     # Radius of either wheel in meters\n",
    "\n",
    "m = m_c + 2*m_w        # The total mass of the system\n",
    "ixx = ixx_c + 2*itt_w  # The total roll mass moment of inertia of the system\n",
    "iyy = iyy_c            # The total pitch mass moment of inertia of the system\n",
    "izz = izz_c + 2*itt_w  # The total yaw mass moment of inertia of the system\n",
    "\n",
    "h = 0.2   # Distance from the CoM of the chassis to wheel axle in meters\n",
    "a = 0.35  # Half the distance between the wheels in meters\n",
    "\n",
    "r_station = 20.0  # The radius of the station in meters\n",
    "v_station = -0.1  # The angular velocity of the station in rad/second\n",
    "\n",
    "# Create the system's generalized coordinates \n",
    "e_lat = Symbol('e_lat')          # The lateral error of the segbot. Positive is to the left of the target position.\n",
    "phi = Symbol('phi')              # The yaw of the chassis of the segbot relative to the station. Positive is facing left.\n",
    "phidot = Symbol('phidot')        # The yawing velocity of the segbot relative to the station. Positive is turning left.\n",
    "v = Symbol('v')                  # The forward velocity of the segbot. Positive is moving forward.\n",
    "theta = Symbol('theta')          # The pitch of the chassis of the segbot. Positive is tipped forwards.\n",
    "thetadot = Symbol('thetadot')    # The pitching velocity of the segbot. Positive is tipping forward.\n",
    "tau_l = Symbol('tau_l')          # The torque applied to the left wheel of the segbot. Positive moves the segbot forward.\n",
    "tau_r = Symbol('tau_r')          # The torque applied to the right wheel of the segbot. Positive moves the segbot forward.\n",
    "\n",
    "M = Matrix([[m + 2 * iaa_w / r_w**2, 0, m_c * h * cos(theta)],\n",
    "            [0, (ixx + m_c * h**2) * sin(theta)**2 + izz * cos(theta)**2 + (2 * iaa_w * a**2 / r_w**2) + 2 * m_w * a**2, 0],\n",
    "            [m_c * h * cos(theta), 0, iyy * m_c * h**2]])\n",
    "N = Matrix([[m_c * h * (phidot**2 + thetadot**2) * sin(theta)],\n",
    "            [-2 * (ixx - izz + m * h**2) * cos(theta) * sin(theta) * phidot * thetadot - m_c * h * sin(theta) * v * phidot],\n",
    "            [(ixx - izz + m_c * h**2) * cos(theta) * sin(theta) * phidot**2 + m_c * 9.81 * h * sin(theta)]])\n",
    "R = Matrix([[1 / r_w, 1 / r_w],\n",
    "            [-a / r_w, a / r_w],\n",
    "            [-1, -1]])\n",
    "f_partial = simplify(M.inv() * (N + R * Matrix([[tau_l], [tau_r]])))\n",
    "f = Matrix([[v * sin(phi)],\n",
    "            [f_partial]])\n",
    "f"
   ]
  },
  {
   "cell_type": "markdown",
   "id": "ef37404b",
   "metadata": {},
   "source": [
    "## System Linearization and State Space Form"
   ]
  },
  {
   "cell_type": "code",
   "execution_count": 110,
   "id": "bd0774ab-48d9-4a28-ae54-401ff5fbadaf",
   "metadata": {},
   "outputs": [
    {
     "data": {
      "text/latex": [
       "$\\displaystyle \\left( \\left[\\begin{matrix}0 & 0 & 0 & 0 & 0 & 0 & 0 & 0\\\\0 & 0 & 0 & 0 & -245.056661411115 & 0 & 0 & 0\\\\0 & 0 & 0 & 0 & 0 & 0 & 0 & 0\\\\0 & 0 & 0 & 0 & 1592.91663381947 & 0 & 0 & 0\\\\0 & 0 & 0 & 0 & 0 & 0 & 0 & 0\\\\0 & 0 & 0 & 0 & 0 & 0 & 0 & 0\\\\0 & 0 & 0 & 0 & 0 & 0 & 0 & 0\\\\0 & 0 & 0 & 0 & 0 & 0 & 0 & 0\\end{matrix}\\right], \\  \\left[\\begin{matrix}0 & 0 & 0\\\\15.5326172644856 & 15.5326172644856 & 0\\\\-1.04916430028235 & 1.04916430028235 & 0\\\\-99.6830245697014 & -99.6830245697014 & 0\\\\0 & 0 & 0\\end{matrix}\\right]\\right)$"
      ],
      "text/plain": [
       "⎛⎡0  0  0  0          0          0  0  0⎤                                     \n",
       "⎜⎢                                      ⎥                                     \n",
       "⎜⎢0  0  0  0  -245.056661411115  0  0  0⎥                                     \n",
       "⎜⎢                                      ⎥  ⎡        0                  0      \n",
       "⎜⎢0  0  0  0          0          0  0  0⎥  ⎢                                  \n",
       "⎜⎢                                      ⎥  ⎢15.5326172644856   15.532617264485\n",
       "⎜⎢0  0  0  0  1592.91663381947   0  0  0⎥  ⎢                                  \n",
       "⎜⎢                                      ⎥, ⎢-1.04916430028235  1.0491643002823\n",
       "⎜⎢0  0  0  0          0          0  0  0⎥  ⎢                                  \n",
       "⎜⎢                                      ⎥  ⎢-99.6830245697014  -99.68302456970\n",
       "⎜⎢0  0  0  0          0          0  0  0⎥  ⎢                                  \n",
       "⎜⎢                                      ⎥  ⎣        0                  0      \n",
       "⎜⎢0  0  0  0          0          0  0  0⎥                                     \n",
       "⎜⎢                                      ⎥                                     \n",
       "⎝⎣0  0  0  0          0          0  0  0⎦                                     \n",
       "\n",
       "      ⎞\n",
       "      ⎟\n",
       "      ⎟\n",
       "    0⎤⎟\n",
       "     ⎥⎟\n",
       "6   0⎥⎟\n",
       "     ⎥⎟\n",
       "5   0⎥⎟\n",
       "     ⎥⎟\n",
       "14  0⎥⎟\n",
       "     ⎥⎟\n",
       "    0⎦⎟\n",
       "      ⎟\n",
       "      ⎟\n",
       "      ⎠"
      ]
     },
     "execution_count": 110,
     "metadata": {},
     "output_type": "execute_result"
    }
   ],
   "source": [
    "# FIXME: Find an equilibrium point and linearize the system into state space form\n",
    "# Generalized coordinates\n",
    "e_lat, phi, phidot, v, theta, thetadot, tau_l, tau_r = sym.symbols('e_lat phi phidot v theta thetadot tau_l tau_r')\n",
    "\n",
    "# Compute the Jacobians\n",
    "state_vars = sym.Matrix([e_lat, v, phi, phidot, theta, thetadot])\n",
    "inputs = sym.Matrix([tau_l, tau_r])\n",
    "\n",
    "# Jacobian matrices\n",
    "A = f.jacobian(state_vars)\n",
    "B = f.jacobian(inputs)\n",
    "\n",
    "# Define equilibrium point: theta = 0, phi = 0, all velocities = 0, torques = 0\n",
    "equilibrium_point = {\n",
    "    theta: 0,\n",
    "    thetadot: 0,\n",
    "    phi: 0,\n",
    "    phidot: 0,\n",
    "    v: 0,\n",
    "    tau_l: 0,\n",
    "    tau_r: 0\n",
    "}\n",
    "\n",
    "# Substitute equilibrium values into the Jacobians A and B\n",
    "A_eq = A.subs(equilibrium_point)\n",
    "B_eq = B.subs(equilibrium_point)\n",
    "\n",
    "A_eq, B_eq\n",
    "\n"
   ]
  },
  {
   "cell_type": "markdown",
   "id": "5309a767-b2bb-44a7-bb9c-d915946bdc1a",
   "metadata": {
    "jp-MarkdownHeadingCollapsed": true
   },
   "source": [
    "## FIXME: Gain Selection and Controller Design"
   ]
  },
  {
   "cell_type": "code",
   "execution_count": 3,
   "id": "efc14387-28dd-48c2-b9f0-7042b307f3bd",
   "metadata": {},
   "outputs": [],
   "source": [
    "# FIXME: Select a set of control and observer gains. Ensure the resultant system is stable. Implement your controller below.\n",
    "\n",
    "# PID controller parameters for pitch (theta) and yaw (phi)\n",
    "Kp_theta = 50.0  # Proportional gain for pitch\n",
    "Ki_theta = 1.0   # Integral gain for pitch\n",
    "Kd_theta = 2.0   # Derivative gain for pitch\n",
    "\n",
    "Kp_phi = 50.0    # Proportional gain for yaw\n",
    "Ki_phi = 1.0     # Integral gain for yaw\n",
    "Kd_phi = 2.0     # Derivative gain for yaw"
   ]
  },
  {
   "cell_type": "code",
   "execution_count": 101,
   "id": "06cc22bb-fde2-479e-82b7-173e9611699c",
   "metadata": {},
   "outputs": [],
   "source": [
    "class Controller():\n",
    "    def __init__(self):\n",
    "        # PID gains for pitch control (theta)\n",
    "        self.Kp_theta = 1000.0\n",
    "        self.Ki_theta = 5.0\n",
    "        self.Kd_theta = 100.0\n",
    "        \n",
    "        # PID gains for yaw control (phi)\n",
    "        self.Kp_phi = 50.0\n",
    "        self.Ki_phi = 10.0\n",
    "        self.Kd_phi = 20.0\n",
    "        \n",
    "        self.K_e = 10.0\n",
    "\n",
    "        # Integral terms\n",
    "        self.integral_theta = 0.0\n",
    "        self.integral_phi = 0.0\n",
    "        \n",
    "        # Previous errors for derivative terms\n",
    "        self.previous_error_theta = 0.0\n",
    "        self.previous_error_phi = 0.0\n",
    "\n",
    "    def reset(self):\n",
    "        # Reset integral and previous error terms\n",
    "        self.integral_theta = 0.0\n",
    "        self.integral_phi = 0.0\n",
    "        self.previous_error_theta = 0.0\n",
    "        self.previous_error_phi = 0.0\n",
    "\n",
    "    def run(self, **kwargs):\n",
    "        # Target setpoints (desired values)\n",
    "        target_theta = 0.0  # Desired pitch\n",
    "        target_phi = 0.0    # Desired yaw\n",
    "\n",
    "        # Extract current states from kwargs\n",
    "        current_theta = kwargs[\"theta\"]\n",
    "        current_phidot = kwargs[\"phidot\"]\n",
    "        current_thetadot = kwargs[\"thetadot\"]\n",
    "        current_phi = kwargs[\"phi\"]\n",
    "        current_e_lat = kwargs[\"e_lat\"]\n",
    "\n",
    "        # Time step (assuming a fixed time step)\n",
    "        dt = 0.01  # Example value (this should ideally be dynamically set)\n",
    "\n",
    "        # Update desired pitch based on lateral error (e_lat)\n",
    "        target_phi = self.K_e * current_e_lat  # Adjust desired pitch based on e_lat\n",
    "\n",
    "        # Compute errors\n",
    "        error_theta = target_theta - current_theta\n",
    "        error_phi = target_phi - current_phi\n",
    "\n",
    "        # Update integral terms\n",
    "        self.integral_theta += error_theta * dt\n",
    "        self.integral_phi += error_phi * dt\n",
    "\n",
    "        # Compute derivative terms\n",
    "        derivative_theta = (error_theta - self.previous_error_theta) / dt\n",
    "        derivative_phi = (error_phi - self.previous_error_phi) / dt\n",
    "\n",
    "        # Compute control signals (torques) using PID\n",
    "        tau_l_theta = (self.Kp_theta * error_theta +\n",
    "                       self.Ki_theta * self.integral_theta +\n",
    "                       self.Kd_theta * derivative_theta)\n",
    "        tau_r_theta = tau_l_theta  # Both wheels are affected equally by pitch\n",
    "\n",
    "        tau_l_phi = (self.Kp_phi * error_phi +\n",
    "                     self.Ki_phi * self.integral_phi +\n",
    "                     self.Kd_phi * derivative_phi)\n",
    "        tau_r_phi = -tau_l_phi  # Yaw control affects wheels oppositely\n",
    "\n",
    "        # Combine torques for pitch and yaw\n",
    "        left_torque = tau_l_theta + tau_l_phi\n",
    "        right_torque = tau_r_theta - tau_r_phi\n",
    "\n",
    "        # Update previous errors for the next step\n",
    "        self.previous_error_theta = error_theta\n",
    "        self.previous_error_phi = error_phi\n",
    "\n",
    "        # Return the calculated torques for the left and right wheels\n",
    "        inputs = [-left_torque, -right_torque]\n",
    "        return inputs"
   ]
  },
  {
   "cell_type": "code",
   "execution_count": 102,
   "id": "91f99c2f-26ef-4515-875c-d5be5505ff4b",
   "metadata": {},
   "outputs": [],
   "source": [
    "# Create an instance of our Controller class\n",
    "controller = Controller()"
   ]
  },
  {
   "cell_type": "markdown",
   "id": "fdd5aa72-f4c6-4b4e-bb66-08bd4ceda7c9",
   "metadata": {
    "jp-MarkdownHeadingCollapsed": true
   },
   "source": [
    "## Running the Simulation"
   ]
  },
  {
   "cell_type": "markdown",
   "id": "a71636ba-cd6d-4ad5-8e31-1457f4111c72",
   "metadata": {},
   "source": [
    "Before we run the simulation, we must first import the simulation module and then create an instance of the simulator. This is done below:"
   ]
  },
  {
   "cell_type": "code",
   "execution_count": 103,
   "id": "e5146cf2-bb6b-4a56-ab66-08917b5d03c6",
   "metadata": {},
   "outputs": [],
   "source": [
    "# Import the segbot project. This module is used to simulate, render, and plot a segbot dynamic system\n",
    "import ae353_segbot"
   ]
  },
  {
   "cell_type": "code",
   "execution_count": 104,
   "id": "80c2d1df-5247-44cf-9de7-35c4d85780d5",
   "metadata": {},
   "outputs": [
    {
     "name": "stdout",
     "output_type": "stream",
     "text": [
      "You can open the visualizer by visiting the following URL:\n",
      "http://127.0.0.1:7020/static/\n"
     ]
    }
   ],
   "source": [
    "sim = ae353_segbot.Segbot_sim(use_keyboard=True,\n",
    "                              visualization=True,\n",
    "                              animation=False,\n",
    "                              bumpy=False)"
   ]
  },
  {
   "cell_type": "code",
   "execution_count": 105,
   "id": "75fefa5c-d205-44cc-84fb-0896513a6cec",
   "metadata": {},
   "outputs": [
    {
     "name": "stdout",
     "output_type": "stream",
     "text": [
      "PRESS ENTER TO START SIMULATION.\n",
      "PRESS ESC TO QUIT.\n",
      "PRESS SPACE TO PAUSE/RESUME SIMULATION.\n",
      "PRESS BACKSPACE TO RESET SIMULATION.\n",
      "CONTINUING...\n",
      "QUITTING...\n"
     ]
    },
    {
     "name": "stdout",
     "output_type": "stream",
     "text": [
      "Termination command detected. Terminating keyboard listener. Goodbye\n"
     ]
    }
   ],
   "source": [
    "# Run the simulation and collect the simulation data\n",
    "data = sim.run(controller,\n",
    "               max_time=None,\n",
    "               initial_e_lat = 0.0,\n",
    "               station_velocity = -0.1)"
   ]
  },
  {
   "cell_type": "markdown",
   "id": "0fadfcf6-c9d5-4d87-9ff7-8665522883e3",
   "metadata": {
    "jp-MarkdownHeadingCollapsed": true
   },
   "source": [
    "## FIXME: Post-processing the simulation data"
   ]
  },
  {
   "cell_type": "markdown",
   "id": "4d9710b3-e018-4921-839c-ff40946ef1f8",
   "metadata": {},
   "source": [
    "After the simulation is run, we can plot the data using the Matplotlib package. To start, we import matplotlib and numpy."
   ]
  },
  {
   "cell_type": "code",
   "execution_count": 95,
   "id": "5b23ea45-dabd-46f3-b3aa-148dd30d4f64",
   "metadata": {},
   "outputs": [
    {
     "name": "stdout",
     "output_type": "stream",
     "text": [
      "Termination command detected. Terminating keyboard listener. Goodbye\n"
     ]
    }
   ],
   "source": [
    "# Import the pyplot module from the matplotlib package\n",
    "import matplotlib.pyplot as plt\n",
    "\n",
    "# Import numpy\n",
    "import numpy as np"
   ]
  },
  {
   "cell_type": "markdown",
   "id": "fcc05165-85a1-43f4-9ea7-e3a84d795869",
   "metadata": {},
   "source": [
    "Now we can make whichever plots we see fit to make sense of the simulation data. Here we plot the pitch versus time as well as the applied torques versus time.\n",
    "\n",
    "**THIS IS LEFT INTENTIONALLY AS INSUFFICIENT TO PROVE YOUR CONTROLLER CAN STEER THE SEGBOT.**"
   ]
  },
  {
   "cell_type": "code",
   "execution_count": null,
   "id": "815349ed-356a-4194-bd7c-35db59ea26e9",
   "metadata": {},
   "outputs": [],
   "source": [
    "# Create a figure that has two plots in it\n",
    "fig, axes = plt.subplots(2, 1, figsize=(7.2, 5.4), sharex=True)\n",
    "\n",
    "# Create a plot of the pitch angle versus time on the first plot\n",
    "axes[0].plot(data['time'], 180.*np.array(data['theta'])/np.pi, c='k', lw=2.5)\n",
    "axes[0].set_ylabel(\"Pitch [deg]\", fontsize=12)\n",
    "axes[0].tick_params(axis='y', labelsize=12)\n",
    "axes[0].set_title(\"Pitch vs. Time\", fontsize=14)\n",
    "axes[0].grid()\n",
    "\n",
    "# Create a plot of the torque versus time on the second plot\n",
    "axes[1].plot(data['time'], data['tau_l'], label=\"Left Torque\", c='r', lw=2.5)\n",
    "axes[1].plot(data['time'], data['tau_r'], label=\"Right Torque\", c='b', lw=2.5)\n",
    "axes[1].set_xlabel(\"Time [s]\", fontsize=12)\n",
    "axes[1].set_ylabel(\"Torque [Nm]\", fontsize=12)\n",
    "axes[1].tick_params(axis='y', labelsize=12)\n",
    "axes[1].legend(fontsize=12, shadow=True)\n",
    "axes[1].set_title(\"Torque vs. Time\", fontsize=14)\n",
    "axes[1].grid()\n",
    "\n",
    "# Show the figure\n",
    "fig.tight_layout(pad=2.0)\n",
    "plt.show()"
   ]
  }
 ],
 "metadata": {
  "kernelspec": {
   "display_name": "Python 3",
   "language": "python",
   "name": "python3"
  },
  "language_info": {
   "codemirror_mode": {
    "name": "ipython",
    "version": 3
   },
   "file_extension": ".py",
   "mimetype": "text/x-python",
   "name": "python",
   "nbconvert_exporter": "python",
   "pygments_lexer": "ipython3",
   "version": "3.12.1"
  }
 },
 "nbformat": 4,
 "nbformat_minor": 5
}
