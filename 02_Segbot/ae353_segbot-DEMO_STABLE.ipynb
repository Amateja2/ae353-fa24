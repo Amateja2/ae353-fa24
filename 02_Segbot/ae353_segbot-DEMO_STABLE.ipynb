{
 "cells": [
  {
   "cell_type": "markdown",
   "id": "b21a9e1c-cfb7-4833-9b1b-479868e29b2b",
   "metadata": {},
   "source": [
    "# System Dynamics and Equations of Motion"
   ]
  },
  {
   "cell_type": "markdown",
   "id": "d32ac566-ba30-4999-9b8a-5253ce51aad9",
   "metadata": {},
   "source": [
    "The first step we will take will be to derive the equations of motion of the system. We  will do this using the approach given in [Tuttle, 2014](https://docs.lib.purdue.edu/cgi/viewcontent.cgi?article=1415&context=open_access_theses). We can do this using the Python package Sympy."
   ]
  },
  {
   "cell_type": "code",
   "execution_count": 1,
   "id": "21aacb7c-a9cb-403a-a8da-628e306e104a",
   "metadata": {},
   "outputs": [],
   "source": [
    "# Import everything we need from SymPy\n",
    "import sympy as sym\n",
    "import numpy as np\n",
    "from sympy import Symbol, Matrix\n",
    "from sympy import N as N_sympy\n",
    "from sympy import simplify, sin, cos, init_printing\n",
    "init_printing() # This function will make the outputs of SymPy look prettier and be easier to read"
   ]
  },
  {
   "cell_type": "markdown",
   "id": "ae9cc771-4293-48fa-a8b5-9e8a843c2605",
   "metadata": {},
   "source": [
    "Now we are going to define the parameters of the system as constants:"
   ]
  },
  {
   "cell_type": "code",
   "execution_count": 2,
   "id": "720498d7-f3dc-4de0-a935-eacfbc1e2f94",
   "metadata": {},
   "outputs": [],
   "source": [
    "# Constants of the system\n",
    "m_c = 12.0    # Mass of the chassis in kg\n",
    "ixx_c = 1.0   # Roll mass moment of ineria of the chassis\n",
    "iyy_c = 0.8   # Pitch mass moment of interia of the chassis\n",
    "izz_c = 0.52  # Yaw mass moment of interia of the chassis\n",
    "\n",
    "m_w = 1.2       # Mass of either wheel in kg\n",
    "iaa_w = 0.0634  # Axial mass moment of interia of the wheels\n",
    "itt_w = 0.0327  # Transverse mass moment of interia of the wheels\n",
    "r_w = 0.325     # Radius of either wheel in meters\n",
    "\n",
    "m = m_c + 2*m_w        # The total mass of the system\n",
    "ixx = ixx_c + 2*itt_w  # The total roll mass moment of inertia of the system\n",
    "iyy = iyy_c            # The total pitch mass moment of inertia of the system\n",
    "izz = izz_c + 2*itt_w  # The total yaw mass moment of inertia of the system\n",
    "\n",
    "h = 0.2   # Distance from the CoM of the chassis to wheel axle in meters\n",
    "a = 0.35  # Half the distance between the wheels in meters\n",
    "\n",
    "r_station = 20.0  # The radius of the station in meters\n",
    "v_station = -0.1  # The angular velocity of the station in rad/second"
   ]
  },
  {
   "cell_type": "markdown",
   "id": "0bfab154-2c6a-482e-a672-c9b8b24d2a14",
   "metadata": {},
   "source": [
    "Now we make symbols and functions. These are elements of SymPy and can be thought of as exactly the same as symbols (variables) and functions from math."
   ]
  },
  {
   "cell_type": "code",
   "execution_count": 3,
   "id": "11fafd2c-0636-439a-b4d2-4ec18de80740",
   "metadata": {},
   "outputs": [],
   "source": [
    "# Create the system's generalized coordinates \n",
    "e_lat = Symbol('e_lat')          # The lateral error of the segbot. Positive is to the left of the target position.\n",
    "phi = Symbol('phi')              # The yaw of the chassis of the segbot relative to the station. Positive is facing left.\n",
    "phidot = Symbol('phidot')        # The yawing velocity of the segbot relative to the station. Positive is turning left.\n",
    "v = Symbol('v')                  # The forward velocity of the segbot. Positive is moving forward.\n",
    "theta = Symbol('theta')          # The pitch of the chassis of the segbot. Positive is tipped forwards.\n",
    "thetadot = Symbol('thetadot')    # The pitching velocity of the segbot. Positive is tipping forward.\n",
    "tau_l = Symbol('tau_l')          # The torque applied to the left wheel of the segbot. Positive moves the segbot forward.\n",
    "tau_r = Symbol('tau_r')          # The torque applied to the right wheel of the segbot. Positive moves the segbot forward.\n"
   ]
  },
  {
   "cell_type": "markdown",
   "id": "ea0813bf-c33a-4db7-aa92-1a3e95e57efc",
   "metadata": {},
   "source": [
    "Now we apply the method given in [Tuttle, 2014](https://docs.lib.purdue.edu/cgi/viewcontent.cgi?article=1415&context=open_access_theses)."
   ]
  },
  {
   "cell_type": "code",
   "execution_count": 4,
   "id": "0fc399fe-2469-451b-af53-108a74189c1c",
   "metadata": {},
   "outputs": [],
   "source": [
    "M = Matrix([[m + 2 * iaa_w / r_w**2, 0, m_c * h * cos(theta)],\n",
    "            [0, (ixx + m_c * h**2) * sin(theta)**2 + izz * cos(theta)**2 + (2 * iaa_w * a**2 / r_w**2) + 2 * m_w * a**2, 0],\n",
    "            [m_c * h * cos(theta), 0, iyy * m_c * h**2]])\n",
    "N = Matrix([[m_c * h * (phidot**2 + thetadot**2) * sin(theta)],\n",
    "            [-2 * (ixx - izz + m * h**2) * cos(theta) * sin(theta) * phidot * thetadot - m_c * h * sin(theta) * v * phidot],\n",
    "            [(ixx - izz + m_c * h**2) * cos(theta) * sin(theta) * phidot**2 + m_c * 9.81 * h * sin(theta)]])\n",
    "R = Matrix([[1 / r_w, 1 / r_w],\n",
    "            [-a / r_w, a / r_w],\n",
    "            [-1, -1]])\n",
    "f_partial = simplify(M.inv() * (N + R * Matrix([[tau_l], [tau_r]])))\n",
    "f = Matrix([[v * sin(phi)],\n",
    "            [f_partial]])\n",
    "f = simplify(f)"
   ]
  },
  {
   "cell_type": "markdown",
   "id": "ed211041-bcf6-4726-88f6-05c11b24515b",
   "metadata": {},
   "source": [
    "$f$ is our system model such that\n",
    "$$\n",
    "\\begin{bmatrix}\n",
    "\\dot{e_{lat}} \\\\\n",
    "\\dot{v} \\\\\n",
    "\\ddot{\\phi} \\\\\n",
    "\\ddot{\\theta}\n",
    "\\end{bmatrix} = f(e_{lat}, v, \\phi, \\dot{\\phi}, \\theta, \\dot{\\theta}, \\tau_l, \\tau_r)\n",
    "$$"
   ]
  },
  {
   "cell_type": "code",
   "execution_count": 5,
   "id": "523b672a-caad-46b8-a9f3-5835617178d1",
   "metadata": {},
   "outputs": [
    {
     "data": {
      "text/latex": [
       "$\\displaystyle \\left[\\begin{matrix}v \\sin{\\left(\\phi \\right)}\\\\\\frac{- 18.4 \\tau_{l} - 18.4 \\tau_{r} - 14.4 \\left(\\dot{\\phi}^{2} + \\dot{\\theta}^{2}\\right) \\sin{\\left(\\theta \\right)} + 37.4 \\left(0.48 \\dot{\\phi}^{2} \\sin{\\left(2 \\theta \\right)} - \\tau_{l} - \\tau_{r} + 23.5 \\sin{\\left(\\theta \\right)}\\right) \\cos{\\left(\\theta \\right)}}{89.9 \\cos^{2}{\\left(\\theta \\right)} - 93.5}\\\\\\frac{- 1.06 \\dot{\\phi} \\dot{\\theta} \\sin{\\left(2 \\theta \\right)} - 2.4 \\dot{\\phi} v \\sin{\\left(\\theta \\right)} - 1.08 \\tau_{l} + 1.08 \\tau_{r}}{0.96 \\sin^{2}{\\left(\\theta \\right)} + 1.03}\\\\\\frac{- 7.49 \\dot{\\phi}^{2} \\sin{\\left(2 \\theta \\right)} + 15.6 \\tau_{l} + 15.6 \\tau_{r} + 2.4 \\left(3.08 \\tau_{l} + 3.08 \\tau_{r} + 2.4 \\left(\\dot{\\phi}^{2} + \\dot{\\theta}^{2}\\right) \\sin{\\left(\\theta \\right)}\\right) \\cos{\\left(\\theta \\right)} - 367.0 \\sin{\\left(\\theta \\right)}}{5.76 \\cos^{2}{\\left(\\theta \\right)} - 5.99}\\end{matrix}\\right]$"
      ],
      "text/plain": [
       "⎡                                                  v⋅sin(φ)                    ↪\n",
       "⎢                                                                              ↪\n",
       "⎢                               ⎛ 2    2⎞               ⎛      2               ↪\n",
       "⎢     -18.4⋅τₗ - 18.4⋅τᵣ - 14.4⋅⎝φ̇  + θ̇ ⎠⋅sin(θ) + 37.4⋅⎝0.48⋅φ̇ ⋅sin(2⋅θ) - τₗ ↪\n",
       "⎢     ──────────────────────────────────────────────────────────────────────── ↪\n",
       "⎢                                                     2                        ↪\n",
       "⎢                                             89.9⋅cos (θ) - 93.5              ↪\n",
       "⎢                                                                              ↪\n",
       "⎢                           -1.06⋅φ̇⋅θ̇⋅sin(2⋅θ) - 2.4⋅φ̇⋅v⋅sin(θ) - 1.08⋅τₗ + 1. ↪\n",
       "⎢                           ────────────────────────────────────────────────── ↪\n",
       "⎢                                                     2                        ↪\n",
       "⎢                                             0.96⋅sin (θ) + 1.03              ↪\n",
       "⎢                                                                              ↪\n",
       "⎢        2                                    ⎛                        ⎛ 2     ↪\n",
       "⎢- 7.49⋅φ̇ ⋅sin(2⋅θ) + 15.6⋅τₗ + 15.6⋅τᵣ + 2.4⋅⎝3.08⋅τₗ + 3.08⋅τᵣ + 2.4⋅⎝φ̇  + θ̇ ↪\n",
       "⎢───────────────────────────────────────────────────────────────────────────── ↪\n",
       "⎢                                                     2                        ↪\n",
       "⎣                                             5.76⋅cos (θ) - 5.99              ↪\n",
       "\n",
       "↪                                 ⎤\n",
       "↪                                 ⎥\n",
       "↪                    ⎞            ⎥\n",
       "↪  - τᵣ + 23.5⋅sin(θ)⎠⋅cos(θ)     ⎥\n",
       "↪ ───────────────────────────     ⎥\n",
       "↪                                 ⎥\n",
       "↪                                 ⎥\n",
       "↪                                 ⎥\n",
       "↪ 08⋅τᵣ                           ⎥\n",
       "↪ ─────                           ⎥\n",
       "↪                                 ⎥\n",
       "↪                                 ⎥\n",
       "↪                                 ⎥\n",
       "↪ 2⎞       ⎞                      ⎥\n",
       "↪  ⎠⋅sin(θ)⎠⋅cos(θ) - 367.0⋅sin(θ)⎥\n",
       "↪ ────────────────────────────────⎥\n",
       "↪                                 ⎥\n",
       "↪                                 ⎦"
      ]
     },
     "execution_count": 5,
     "metadata": {},
     "output_type": "execute_result"
    }
   ],
   "source": [
    "N_sympy(f, 3)  # This rounds floating point number to 3 places and then prints to the screen"
   ]
  },
  {
   "cell_type": "markdown",
   "id": "b625edfb-61c7-4d97-b842-abc55e5109b9",
   "metadata": {},
   "source": [
    "Note that this system of equations is not in standard form — you will have to do this, as usual."
   ]
  },
  {
   "cell_type": "markdown",
   "id": "78a30e88-b28f-484e-b4cf-cfefa9e8affb",
   "metadata": {},
   "source": [
    "# System Linearization and State Space Form"
   ]
  },
  {
   "cell_type": "markdown",
   "id": "9e257c14-e885-4406-ba98-8f1d1aa8ceb0",
   "metadata": {},
   "source": [
    "## Place the System in Standard Form"
   ]
  },
  {
   "cell_type": "markdown",
   "id": "0136a984-fec9-4c3b-a680-88cea8b88487",
   "metadata": {},
   "source": [
    "Place the system in standard form by replacing each second order ODEs with two first order ODEs via the following substitution:\n",
    "$$\n",
    "\\dot{\\phi} = \\omega_{\\phi}\n",
    "$$\n",
    "$$\n",
    "\\dot{\\theta} = \\omega_{\\theta}\n",
    "$$"
   ]
  },
  {
   "cell_type": "code",
   "execution_count": 6,
   "id": "a62694b8-5269-4d8d-b3ea-8b797daa6a25",
   "metadata": {},
   "outputs": [
    {
     "data": {
      "text/latex": [
       "$\\displaystyle \\left[\\begin{matrix}v \\sin{\\left(\\phi \\right)}\\\\\\frac{- 18.4 \\tau_{l} - 18.4 \\tau_{r} - 14.4 \\left(\\omega_{\\phi}^{2} + \\omega_{\\theta}^{2}\\right) \\sin{\\left(\\theta \\right)} + 37.4 \\left(0.48 \\omega_{\\phi}^{2} \\sin{\\left(2 \\theta \\right)} - \\tau_{l} - \\tau_{r} + 23.5 \\sin{\\left(\\theta \\right)}\\right) \\cos{\\left(\\theta \\right)}}{89.9 \\cos^{2}{\\left(\\theta \\right)} - 93.5}\\\\\\frac{- 1.06 \\omega_{\\phi} \\omega_{\\theta} \\sin{\\left(2 \\theta \\right)} - 2.4 \\omega_{\\phi} v \\sin{\\left(\\theta \\right)} - 1.08 \\tau_{l} + 1.08 \\tau_{r}}{0.96 \\sin^{2}{\\left(\\theta \\right)} + 1.03}\\\\\\frac{- 7.49 \\omega_{\\phi}^{2} \\sin{\\left(2 \\theta \\right)} + 15.6 \\tau_{l} + 15.6 \\tau_{r} + 2.4 \\left(3.08 \\tau_{l} + 3.08 \\tau_{r} + 2.4 \\left(\\omega_{\\phi}^{2} + \\omega_{\\theta}^{2}\\right) \\sin{\\left(\\theta \\right)}\\right) \\cos{\\left(\\theta \\right)} - 367.0 \\sin{\\left(\\theta \\right)}}{5.76 \\cos^{2}{\\left(\\theta \\right)} - 5.99}\\\\\\omega_{\\phi}\\\\\\omega_{\\theta}\\end{matrix}\\right]$"
      ],
      "text/plain": [
       "⎡                                                      v⋅sin(φ)                ↪\n",
       "⎢                                                                              ↪\n",
       "⎢                               ⎛  2         2⎞               ⎛       2        ↪\n",
       "⎢     -18.4⋅τₗ - 18.4⋅τᵣ - 14.4⋅⎝ωᵩ  + ωₜₕₑₜₐ ⎠⋅sin(θ) + 37.4⋅⎝0.48⋅ωᵩ ⋅sin(2⋅ ↪\n",
       "⎢     ──────────────────────────────────────────────────────────────────────── ↪\n",
       "⎢                                                        2                     ↪\n",
       "⎢                                                89.9⋅cos (θ) - 93.5           ↪\n",
       "⎢                                                                              ↪\n",
       "⎢                           -1.06⋅ωᵩ⋅ωₜₕₑₜₐ⋅sin(2⋅θ) - 2.4⋅ωᵩ⋅v⋅sin(θ) - 1.08⋅ ↪\n",
       "⎢                           ────────────────────────────────────────────────── ↪\n",
       "⎢                                                        2                     ↪\n",
       "⎢                                                0.96⋅sin (θ) + 1.03           ↪\n",
       "⎢                                                                              ↪\n",
       "⎢         2                                    ⎛                        ⎛  2   ↪\n",
       "⎢- 7.49⋅ωᵩ ⋅sin(2⋅θ) + 15.6⋅τₗ + 15.6⋅τᵣ + 2.4⋅⎝3.08⋅τₗ + 3.08⋅τᵣ + 2.4⋅⎝ωᵩ  + ↪\n",
       "⎢───────────────────────────────────────────────────────────────────────────── ↪\n",
       "⎢                                                        2                     ↪\n",
       "⎢                                                5.76⋅cos (θ) - 5.99           ↪\n",
       "⎢                                                                              ↪\n",
       "⎢                                                         ωᵩ                   ↪\n",
       "⎢                                                                              ↪\n",
       "⎣                                                       ωₜₕₑₜₐ                 ↪\n",
       "\n",
       "↪                                        ⎤\n",
       "↪                                        ⎥\n",
       "↪                           ⎞            ⎥\n",
       "↪ θ) - τₗ - τᵣ + 23.5⋅sin(θ)⎠⋅cos(θ)     ⎥\n",
       "↪ ──────────────────────────────────     ⎥\n",
       "↪                                        ⎥\n",
       "↪                                        ⎥\n",
       "↪                                        ⎥\n",
       "↪ τₗ + 1.08⋅τᵣ                           ⎥\n",
       "↪ ────────────                           ⎥\n",
       "↪                                        ⎥\n",
       "↪                                        ⎥\n",
       "↪                                        ⎥\n",
       "↪        2⎞       ⎞                      ⎥\n",
       "↪  ωₜₕₑₜₐ ⎠⋅sin(θ)⎠⋅cos(θ) - 367.0⋅sin(θ)⎥\n",
       "↪ ───────────────────────────────────────⎥\n",
       "↪                                        ⎥\n",
       "↪                                        ⎥\n",
       "↪                                        ⎥\n",
       "↪                                        ⎥\n",
       "↪                                        ⎥\n",
       "↪                                        ⎦"
      ]
     },
     "execution_count": 6,
     "metadata": {},
     "output_type": "execute_result"
    }
   ],
   "source": [
    "# Create the two new variables to place the system in standard form\n",
    "(omega_phi, omega_theta) = sym.symbols('omega_phi, omega_theta')\n",
    "\n",
    "# Add omega_theta's and omega_phi's definition as two new ODEs to the system\n",
    "f = sym.Matrix([f[0],\n",
    "                f[1],\n",
    "                f[2],\n",
    "                f[3],\n",
    "                omega_phi,\n",
    "                omega_theta])\n",
    "\n",
    "# Make the change of variables dot{\\phi} = \\omega_{\\phi} and dot{\\theta} = \\omega_{\\theta} to place f in standard form\n",
    "f = f.subs({phidot : omega_phi,\n",
    "            thetadot : omega_theta})\n",
    "\n",
    "sym.N(f, 3) # Display f in standard form"
   ]
  },
  {
   "cell_type": "markdown",
   "id": "062b9b48-2080-46a3-9883-fa511c6f9477",
   "metadata": {},
   "source": [
    "## Find an Equilibrium Point"
   ]
  },
  {
   "cell_type": "markdown",
   "id": "eed1b48f-6254-46a6-964b-0ae63027ca41",
   "metadata": {},
   "source": [
    "We first chose a candidate equilibrium point, then we verify that $f(m_e, n_e) = 0$ to confirm our candidate equilibrium point is valid."
   ]
  },
  {
   "cell_type": "code",
   "execution_count": 7,
   "id": "f0e04718-1bec-42c7-8eda-80d06b476ca4",
   "metadata": {},
   "outputs": [
    {
     "data": {
      "text/plain": [
       "array([[ 0.],\n",
       "       [-0.],\n",
       "       [ 0.],\n",
       "       [-0.],\n",
       "       [ 0.],\n",
       "       [ 0.]])"
      ]
     },
     "execution_count": 7,
     "metadata": {},
     "output_type": "execute_result"
    }
   ],
   "source": [
    "# Convert symbolic system to a numeric function\n",
    "f_num = sym.lambdify([e_lat, v, omega_phi, omega_theta, phi, theta, tau_l, tau_r], f)\n",
    "\n",
    "# Guess an equilibrium state of all 0s.\n",
    "e_lat_e = 0.0 \n",
    "v_e = -v_station\n",
    "omega_phi_e = 0.0 \n",
    "omega_theta_e = 0.0\n",
    "phi_e = 0.0\n",
    "theta_e = 0.0\n",
    "tau_l_e = 0.0\n",
    "tau_r_e = 0.0\n",
    "\n",
    "# Test if our guess is an equilibrium position\n",
    "f_num(e_lat_e, v_e, omega_phi_e, omega_theta_e, phi_e, theta_e, tau_l_e, tau_r_e)"
   ]
  },
  {
   "cell_type": "markdown",
   "id": "e9c50264-a38f-4ee7-9a90-4f87097cfb59",
   "metadata": {},
   "source": [
    "## Linearize the System to get A and B"
   ]
  },
  {
   "cell_type": "markdown",
   "id": "bf98a7b1-b6d3-4fef-b327-9904e3e3e945",
   "metadata": {},
   "source": [
    "We now linearize the system about our equilibrium point to get the $A$ and $B$ matrices."
   ]
  },
  {
   "cell_type": "code",
   "execution_count": 8,
   "id": "0d220d23-9256-415c-b156-c317e3cce02b",
   "metadata": {},
   "outputs": [
    {
     "data": {
      "text/latex": [
       "$\\displaystyle \\left[\\begin{matrix}0 & 0 & 0 & 0 & 0.1 & 0\\\\0 & 0 & 0 & 0 & 0 & -245.0\\\\0 & 0 & 0 & 0 & 0 & 0\\\\0 & 0 & 0 & 0 & 0 & 1.59 \\cdot 10^{3}\\\\0 & 0 & 1.0 & 0 & 0 & 0\\\\0 & 0 & 0 & 1.0 & 0 & 0\\end{matrix}\\right]$"
      ],
      "text/plain": [
       "⎡0  0   0    0   0.1     0   ⎤\n",
       "⎢                            ⎥\n",
       "⎢0  0   0    0    0   -245.0 ⎥\n",
       "⎢                            ⎥\n",
       "⎢0  0   0    0    0      0   ⎥\n",
       "⎢                            ⎥\n",
       "⎢0  0   0    0    0   1.59e+3⎥\n",
       "⎢                            ⎥\n",
       "⎢0  0  1.0   0    0      0   ⎥\n",
       "⎢                            ⎥\n",
       "⎣0  0   0   1.0   0      0   ⎦"
      ]
     },
     "execution_count": 8,
     "metadata": {},
     "output_type": "execute_result"
    }
   ],
   "source": [
    "# Define the nonlinear state vector\n",
    "m = [e_lat, v, omega_phi, omega_theta, phi, theta]\n",
    "\n",
    "# Take the jacobian of f with respect to the nonlinear state vector\n",
    "A_sym = f.jacobian(m)\n",
    "\n",
    "# Convert the symbolic jacobian to a numeric representation\n",
    "A_num = sym.lambdify([e_lat, v, omega_phi, omega_theta, phi, theta, tau_l, tau_r], A_sym)\n",
    "\n",
    "# Evalulate the jacobian of f with respect to the nonlinear state vector at the equilibrium point\n",
    "A = A_num(e_lat_e, v_e, omega_phi_e, omega_theta_e, phi_e, theta_e, tau_l_e, tau_r_e)\n",
    "\n",
    "# Print A\n",
    "sym.N(sym.Matrix(A),3)"
   ]
  },
  {
   "cell_type": "code",
   "execution_count": 9,
   "id": "aa05be36-9952-46f3-956d-769844986dd5",
   "metadata": {},
   "outputs": [
    {
     "data": {
      "text/latex": [
       "$\\displaystyle \\left[\\begin{matrix}0 & 0\\\\15.5 & 15.5\\\\-1.05 & 1.05\\\\-99.7 & -99.7\\\\0 & 0\\\\0 & 0\\end{matrix}\\right]$"
      ],
      "text/plain": [
       "⎡  0      0  ⎤\n",
       "⎢            ⎥\n",
       "⎢15.5   15.5 ⎥\n",
       "⎢            ⎥\n",
       "⎢-1.05  1.05 ⎥\n",
       "⎢            ⎥\n",
       "⎢-99.7  -99.7⎥\n",
       "⎢            ⎥\n",
       "⎢  0      0  ⎥\n",
       "⎢            ⎥\n",
       "⎣  0      0  ⎦"
      ]
     },
     "execution_count": 9,
     "metadata": {},
     "output_type": "execute_result"
    }
   ],
   "source": [
    "# Define the nonlinear input vector\n",
    "n = [tau_l, tau_r]\n",
    "\n",
    "# Take the jacobian of f with respect to the nonlinear input vector\n",
    "B_sym = f.jacobian(n)\n",
    "\n",
    "# Convert the symbolic jacobian to a numeric representation\n",
    "B_num = sym.lambdify([e_lat, v, omega_phi, omega_theta, phi, theta, tau_l, tau_r], B_sym)\n",
    "\n",
    "# Evalulate the jacobian of f with respect to the nonlinear input vector at the equilibrium point\n",
    "B = B_num(e_lat_e, v_e, omega_phi_e, omega_theta_e, phi_e, theta_e, tau_l_e, tau_r_e)\n",
    "\n",
    "# Print B\n",
    "sym.N(sym.Matrix(B),3)"
   ]
  },
  {
   "cell_type": "markdown",
   "id": "c74caa08-eda0-415d-87b2-d21b20327539",
   "metadata": {},
   "source": [
    "## Check the controllability of the linearized system"
   ]
  },
  {
   "cell_type": "markdown",
   "id": "e180e2c7-a8af-46d0-beb0-66d37795ac06",
   "metadata": {},
   "source": [
    "We build the controllability matrix, $W$, and ensure its rank rank is equal to the number of states."
   ]
  },
  {
   "cell_type": "code",
   "execution_count": 10,
   "id": "7dd3bf3c-0f4a-41fb-82a2-73346704cd97",
   "metadata": {},
   "outputs": [],
   "source": [
    "# Check controllability\n",
    "W = np.hstack((B, A@B, A@A@B, A@A@A@B, A@A@A@A@B, A@A@A@A@A@B))\n",
    "assert(np.linalg.matrix_rank(W) == len(m))   "
   ]
  },
  {
   "cell_type": "markdown",
   "id": "5309a767-b2bb-44a7-bb9c-d915946bdc1a",
   "metadata": {},
   "source": [
    "# Gain Selection and Controller Design"
   ]
  },
  {
   "cell_type": "markdown",
   "id": "45af7350-6cc2-46cf-91e9-e72d5a2ea590",
   "metadata": {},
   "source": [
    "Given our linear model of the system, we choose $Q$ and $R$ matrices and solve the Algebraic Riccati Equation. To this solution, we can apply the Linear Quadratic Regulator to solve for a linear optimal gain matrix, $K$."
   ]
  },
  {
   "cell_type": "code",
   "execution_count": 11,
   "id": "740676d9-f226-427e-abb5-5e98849859b9",
   "metadata": {},
   "outputs": [],
   "source": [
    "# Get a reasonable Q and R for LQR\n",
    "Q = np.eye(6)\n",
    "R = np.eye(2)\n",
    "Q[0,0] = 1. / (1.25**2)\n",
    "Q[1,1] = 1. / (1.0**2)\n",
    "Q[2,2] = 1. / (3.0**2)\n",
    "Q[3,3] = 1. / (0.5**2)\n",
    "Q[4,4] = 1. / (0.5**2)\n",
    "Q[5,5] = 1. / (0.05**2)\n",
    "R[0,0] = 1. / (0.5**2)\n",
    "R[1,1] = 1. / (0.5**2)"
   ]
  },
  {
   "cell_type": "code",
   "execution_count": 12,
   "id": "62c46bdf-aca3-4fd5-857d-69c1317bb249",
   "metadata": {},
   "outputs": [
    {
     "data": {
      "text/latex": [
       "$\\displaystyle \\left[\\begin{matrix}-0.283 & -0.354 & -0.848 & -0.886 & -0.74 & -18.8\\\\0.283 & -0.354 & 0.848 & -0.886 & 0.74 & -18.8\\end{matrix}\\right]$"
      ],
      "text/plain": [
       "⎡-0.283  -0.354  -0.848  -0.886  -0.74  -18.8⎤\n",
       "⎢                                            ⎥\n",
       "⎣0.283   -0.354  0.848   -0.886  0.74   -18.8⎦"
      ]
     },
     "execution_count": 12,
     "metadata": {},
     "output_type": "execute_result"
    }
   ],
   "source": [
    "# Solve the Algebraic Riccati Equation to get P, then use P, R, and B to get the optimal K\n",
    "from scipy.linalg import solve_continuous_are as are_soln\n",
    "P = are_soln(A, B, Q, R)\n",
    "K = np.linalg.inv(R) @ B.T @ P\n",
    "sym.N(sym.Matrix(K),3) # Print the control gains"
   ]
  },
  {
   "cell_type": "markdown",
   "id": "b67fcb05-b362-48b5-9aa8-82fddad15a7b",
   "metadata": {},
   "source": [
    "It's interesting that each entry in the first row and the second row ($\\tau_l$ and $\\tau_r$, respectively) have the same magnitude, but not always the same sign. How could you explain this via intuition of the system and its dynamics? "
   ]
  },
  {
   "cell_type": "code",
   "execution_count": 13,
   "id": "81d2f7d4-ebdb-4916-8f09-94132da043cb",
   "metadata": {},
   "outputs": [
    {
     "data": {
      "text/latex": [
       "$\\displaystyle \\left[\\begin{matrix}-152.0\\\\-0.87 + 0.853 i\\\\-0.87 - 0.853 i\\\\-0.04\\\\-14.0\\\\-0.104\\end{matrix}\\right]$"
      ],
      "text/plain": [
       "⎡    -152.0     ⎤\n",
       "⎢               ⎥\n",
       "⎢-0.87 + 0.853⋅ⅈ⎥\n",
       "⎢               ⎥\n",
       "⎢-0.87 - 0.853⋅ⅈ⎥\n",
       "⎢               ⎥\n",
       "⎢     -0.04     ⎥\n",
       "⎢               ⎥\n",
       "⎢     -14.0     ⎥\n",
       "⎢               ⎥\n",
       "⎣    -0.104     ⎦"
      ]
     },
     "execution_count": 13,
     "metadata": {},
     "output_type": "execute_result"
    }
   ],
   "source": [
    "# Check to ensure the closed-loop system is stable\n",
    "F = A-B@K\n",
    "val, vec = np.linalg.eig(F)\n",
    "sym.N(sym.Matrix(val),3) # Print the eigenvalues"
   ]
  },
  {
   "cell_type": "code",
   "execution_count": 14,
   "id": "06cc22bb-fde2-479e-82b7-173e9611699c",
   "metadata": {},
   "outputs": [],
   "source": [
    "# Create the Controller class\n",
    "class Controller():\n",
    "    def __init__(self):\n",
    "        \"\"\"\n",
    "        Initializes the controller. You should initialize any member variables that\n",
    "        the controller will use to their starting values. This function is called\n",
    "        when a new instance of the Controller class is created.\n",
    "    \n",
    "        Parameters\n",
    "        ----------\n",
    "        None.\n",
    "    \n",
    "        Returns\n",
    "        -------\n",
    "        None.\n",
    "        \"\"\"\n",
    "        # Set control gains\n",
    "        self.K = K\n",
    "\n",
    "        # Set the equilibrium point\n",
    "        self.e_lat_e = e_lat_e\n",
    "        self.v_e = v_e\n",
    "        self.omega_phi_e = omega_phi_e\n",
    "        self.omega_theta_e = omega_theta_e\n",
    "        self.phi_e = phi_e\n",
    "        self.theta_e = theta_e\n",
    "        self.tau_l_e = tau_l_e\n",
    "        self.tau_r_e = tau_r_e\n",
    "    \n",
    "    def reset(self):\n",
    "        \"\"\"\n",
    "        Resets the controller to an initial state. You should reset any variables\n",
    "        that track states, times, etc. in this function. This function will be \n",
    "        called just before the simulation starts running and any time the simulation\n",
    "        is reset.\n",
    "    \n",
    "        Parameters\n",
    "        ----------\n",
    "        None.\n",
    "    \n",
    "        Returns\n",
    "        -------\n",
    "        None.\n",
    "        \"\"\"\n",
    "        # The reset function is not used\n",
    "        pass \n",
    "\n",
    "    \n",
    "    def run(self, **kwargs):\n",
    "        \"\"\"\n",
    "        Runs the controller. Data is passed from the simulation environment to the\n",
    "        controller via kwargs, the controller calculates the inputs to the system,\n",
    "        and then returns them via a return statement\n",
    "    \n",
    "        Parameters\n",
    "        ----------\n",
    "        **kwargs : Dictionary\n",
    "            A dictionary of data passed from the simulation environment to the \n",
    "            controller. Specific data is extracted from kwargs via the statement:\n",
    "            kwargs[\"KEYWORD\"], where \"KEYWORD\" is a key to the dictionary. The keys\n",
    "            of kwargs for this project are as follows:\n",
    "\n",
    "            kwargs[\"e_lat\"] : Float\n",
    "                The current lateral position error of the segbot in meters.\n",
    "            \n",
    "            kwargs[\"v\"] : Float\n",
    "                The current forward velocity of the segbot in meters/second.\n",
    "            \n",
    "            kwargs[\"phi\"] : Float\n",
    "                The current heading angle of the chassis in radians.\n",
    "            \n",
    "            kwargs[\"phidot\"] : Float\n",
    "                The current heading  angular rate of the chassis in radians/second.\n",
    "            \n",
    "            kwargs[\"theta\"] : Float\n",
    "                The current pitch angle of the chassis in radians.\n",
    "            \n",
    "            kwargs[\"thetadot\"] : Float\n",
    "                The current pitch angular rate of the chassis in radians/second.\n",
    "    \n",
    "        Returns\n",
    "        -------\n",
    "        inputs : List with length equal to the number of inputs\n",
    "            This is a list of the inputs calculated by the controller. In this\n",
    "            project, there are two inputs, the torque applied to the left wheel\n",
    "            and the torque applied to the right wheel. Therefore, inputs has the \n",
    "            form:\n",
    "            inputs = [left_torque, right_torque]\n",
    "        \n",
    "        \"\"\"\n",
    "        # Get the inputs using the control law u=-Kx\n",
    "        x = np.array([kwargs[\"e_lat\"] - self.e_lat_e,\n",
    "                      kwargs[\"v\"] - self.v_e,\n",
    "                      kwargs[\"phidot\"] - self.omega_phi_e,\n",
    "                      kwargs[\"thetadot\"] - self.omega_theta_e,\n",
    "                      kwargs[\"phi\"] - self.phi_e,\n",
    "                      kwargs[\"theta\"] - self.theta_e])\n",
    "        u = -K@x\n",
    "        n = u + np.array([self.tau_l_e,\n",
    "                          self.tau_r_e])\n",
    "\n",
    "        # Format and return the inputs\n",
    "        inputs = n.tolist()\n",
    "        return inputs"
   ]
  },
  {
   "cell_type": "code",
   "execution_count": 15,
   "id": "91f99c2f-26ef-4515-875c-d5be5505ff4b",
   "metadata": {},
   "outputs": [],
   "source": [
    "# Create an instance of our Controller class\n",
    "controller = Controller()"
   ]
  },
  {
   "cell_type": "markdown",
   "id": "fdd5aa72-f4c6-4b4e-bb66-08bd4ceda7c9",
   "metadata": {},
   "source": [
    "# Running the Simulation"
   ]
  },
  {
   "cell_type": "markdown",
   "id": "a71636ba-cd6d-4ad5-8e31-1457f4111c72",
   "metadata": {},
   "source": [
    "Before we run the simulation, we must first import the simulation module and then create an instance of the simulator. This is done below:"
   ]
  },
  {
   "cell_type": "code",
   "execution_count": 16,
   "id": "e5146cf2-bb6b-4a56-ab66-08917b5d03c6",
   "metadata": {},
   "outputs": [
    {
     "name": "stderr",
     "output_type": "stream",
     "text": [
      "pybullet build time: Jan 20 2023 17:42:59\n"
     ]
    }
   ],
   "source": [
    "# Import the segbot project. This module is used to simulate, render, and plot a segbot dynamic system\n",
    "import ae353_segbot"
   ]
  },
  {
   "cell_type": "markdown",
   "id": "60561bc3-3866-47c6-81a6-381aa28cb9be",
   "metadata": {},
   "source": [
    "There are four main parameters to the Segbot_sim class initialization function:\n",
    "#### Parameters\n",
    "\n",
    "> **use_keyboard** : *bool, optional*  \n",
    "> A boolean flag that indicates whether the simulation will allow the use of keyboard interactivity. The default is True.\n",
    "> \n",
    "> **visualization** : *bool, optional*  \n",
    "> A boolean flag that indicates whether the simulation will be  visualized in meshcat. The default is True.\n",
    "> \n",
    "> **animation** : *bool, optional*  \n",
    "> A boolean flag that indicates whether animated plots are created in real time. The default is True.\n",
    "> \n",
    "> **bumpy**: *bool, optional*  \n",
    "> A boolean flag that indicates whether the station will be built with bumps on the driving surface or not."
   ]
  },
  {
   "cell_type": "code",
   "execution_count": 20,
   "id": "ca4e44b9-3ecc-43ac-a943-78a59670749a",
   "metadata": {},
   "outputs": [
    {
     "name": "stdout",
     "output_type": "stream",
     "text": [
      "You can open the visualizer by visiting the following URL:\n",
      "http://127.0.0.1:7002/static/\n",
      "argv[0]=\n",
      "b3Warning[examples/Importers/ImportURDFDemo/BulletUrdfImporter.cpp,126]:\n",
      "No inertial data for link, using mass=1, localinertiadiagonal = 1,1,1, identity local inertial frameb3Warning[examples/Importers/ImportURDFDemo/BulletUrdfImporter.cpp,126]:\n",
      "space"
     ]
    },
    {
     "name": "stderr",
     "output_type": "stream",
     "text": [
      "This process is not trusted! Input event monitoring will not be possible until it is added to accessibility clients.\n"
     ]
    }
   ],
   "source": [
    "# Create an instance of the segbot simulator\n",
    "sim = ae353_segbot.Segbot_sim(use_keyboard=True,\n",
    "                              visualization=True,\n",
    "                              animation=False,\n",
    "                              bumpy=True)"
   ]
  },
  {
   "cell_type": "markdown",
   "id": "94ef6182-08ea-4384-92c0-20210a8c5858",
   "metadata": {},
   "source": [
    "Now we are ready to run the simulation and collect data. To do this we call the ``sim.run()`` function. This function takes an instance of the ``Controller`` class as an argument and returns ``data``. The parameters and return values of ``sim.run()`` are shown below.\n",
    "\n",
    "#### Parameters\n",
    "\n",
    "> **controller** : *member of Controller class*  \n",
    "> Your controller that will generated inputs to the system.\n",
    "> \n",
    "> **max_time** : *Float or None, optional*  \n",
    "> The total amount of time the simulation is allowed to run. If set to None, the simulation will run until \"ESC\" is pressed on the keyboard. If the keyboard is disabled, and max_time is set to None, the simulation will automatically terminate after 10 seconds of simulated time. The default value is None.\n",
    "> \n",
    "> **initial_e_lat** : *Float, optional*  \n",
    "> The initial lateral error in meters. Changes the target lateral error, does not change the lateral position of the segbot. The default value is 0.0.\n",
    "> \n",
    "> **station_velocity** : *Float, optional*  \n",
    "> The constant rotational speed of the station in rad/s. The default value is -0.1.\n",
    "\n",
    "#### Returns\n",
    "\n",
    "> **data** : *Dictionary of Lists*  \n",
    "> A dictionary containing all relevant data generated during the simulation. Specific data is extracted via the statement: data[\"KEYWORD\"], where \"KEYWORD\" is a key to the dictionary. The keys of data for this project are as follows:\n",
    ">  \n",
    "> **data[\"lat_pos\"]** : *List of Floats*  \n",
    "> A list of the lateral position of the segbot in meters at each time stamp during the simulation.\n",
    ">  \n",
    "> **data[\"tag_lat\"]** : *List of Floats*  \n",
    "> A list of the taget lateral position of the segbot in meters at each time stamp during the simulation.  \n",
    ">  \n",
    "> **data[\"e_lat\"]** : *List of Floats*  \n",
    "> A list of the lateral position error of the segbot in meters at each time stamp during the simulation.\n",
    ">  \n",
    "> **data[\"v\"]** : *List of Floats*\n",
    "> test\n",
    ">  \n",
    "> A list of the forward velocity of the segbot in meters/second at each time stamp during the simulation.\n",
    "> \n",
    "> **data[\"phi\"]** : *List of Floats*  \n",
    "> A list of the heading angle of the chassis in radians at each time stamp during the simulation.\n",
    "> \n",
    "> **data[\"phidot\"]** : *List of Floats*  \n",
    "> A list of the heading  angular rate of the chassis in radians/second at each time stamp during the simulation.\n",
    "> \n",
    "> **data[\"theta\"]** : *List of Floats*  \n",
    "> A list of the pitch angle of the chassis in radians at each time stamp during the simulation.\n",
    "> \n",
    "> **data[\"thetadot\"]** : *List of Floats*  \n",
    "> A list of the pitch angular rate of the chassis in radians/second at each time stamp during the simulation.\n",
    "> \n",
    "> **data[\"tau_l\"]** : *List of Floats*  \n",
    "> A list of the torque applied to the left wheel of the segbot in Newton-meters at each time stamp during the simulation.\n",
    "> \n",
    "> **data[\"tau_r\"]** : *List of Floats*  \n",
    "> A list of the torque applied to the right wheel of the segbot in Newton-meters at each time stamp during the simulation.\n",
    "> \n",
    "> **data[\"time\"]** : *List of Floats*  \n",
    "> A list of the time stamps in seconds."
   ]
  },
  {
   "cell_type": "markdown",
   "id": "124639bf-1ee1-4311-b92c-8390c695242a",
   "metadata": {},
   "source": [
    "#### If enabled you can use the keyboard to interact with the simulation:  \n",
    "> press **ENTER** to start the simulation  \n",
    "> press **BACKSPACE** to reset the simulation  \n",
    "> press **SPACE** to pause the simulation  \n",
    "> press **ESC** to end the simulation  \n",
    "\n",
    "#### To control the target lateral position:\n",
    "> press **j** to move the target to the left  \n",
    "> press **l** to move the target to the right  \n",
    "\n",
    "#### If the manual controller is being used:\n",
    "> press **w** to apply small forward torque to both wheels  \n",
    "> press **SHIFT+w** to apply large forward torque to both wheels  \n",
    "> press **s** to apply small backward torque to both wheels  \n",
    "> press **SHIFT+s** to apply large backward torque to both wheels  \n",
    "> press **d** to apply small forward torque to only the left wheel  \n",
    "> press **SHIFT+d** to apply large forward torque to only the left wheel  \n",
    "> press **a** to apply small backward torque to only the right wheel  \n",
    "> press **SHIFT+a** to apply large backward torque to only the right wheel  "
   ]
  },
  {
   "cell_type": "code",
   "execution_count": null,
   "id": "75fefa5c-d205-44cc-84fb-0896513a6cec",
   "metadata": {},
   "outputs": [
    {
     "name": "stdout",
     "output_type": "stream",
     "text": [
      "PRESS ENTER TO START SIMULATION.\n",
      "PRESS ESC TO QUIT.\n",
      "PRESS SPACE TO PAUSE/RESUME SIMULATION.\n",
      "PRESS BACKSPACE TO RESET SIMULATION.\n",
      "CONTINUING...\n"
     ]
    }
   ],
   "source": [
    "# Run the simulation and collect the simulation data\n",
    "data = sim.run(controller,\n",
    "               max_time=None,\n",
    "               initial_e_lat = 0.0,\n",
    "               station_velocity = v_station)"
   ]
  },
  {
   "cell_type": "markdown",
   "id": "0fadfcf6-c9d5-4d87-9ff7-8665522883e3",
   "metadata": {
    "jp-MarkdownHeadingCollapsed": true
   },
   "source": [
    "# Post-processing the simulation data"
   ]
  },
  {
   "cell_type": "markdown",
   "id": "4d9710b3-e018-4921-839c-ff40946ef1f8",
   "metadata": {},
   "source": [
    "After the simulation is run, we can plot the data using the Matplotlib package. To start, we import matplotlib."
   ]
  },
  {
   "cell_type": "code",
   "execution_count": null,
   "id": "5b23ea45-dabd-46f3-b3aa-148dd30d4f64",
   "metadata": {},
   "outputs": [],
   "source": [
    "# Import the pyplot module from the matplotlib package\n",
    "import matplotlib.pyplot as plt"
   ]
  },
  {
   "cell_type": "markdown",
   "id": "fcc05165-85a1-43f4-9ea7-e3a84d795869",
   "metadata": {},
   "source": [
    "Now we can make whichever plots we see fit to make sense of the simulation data. Here we plot the pitch versus time as well as the applied torques versus time.\n",
    "\n",
    "**THIS IS LEFT INTENTIONALLY AS INSUFFICIENT TO PROVE YOUR CONTROLLER CAN STEER THE SEGBOT.**"
   ]
  },
  {
   "cell_type": "code",
   "execution_count": null,
   "id": "815349ed-356a-4194-bd7c-35db59ea26e9",
   "metadata": {},
   "outputs": [],
   "source": [
    "# Create a figure that has two plots in it\n",
    "fig, axes = plt.subplots(2, 1, figsize=(7.2, 5.4), sharex=True)\n",
    "\n",
    "# Create a plot of the pitch angle versus time on the first plot\n",
    "axes[0].plot(data['time'], 180.*np.array(data['theta'])/np.pi, c='k', lw=2.5)\n",
    "axes[0].set_ylabel(\"Pitch [deg]\", fontsize=12)\n",
    "axes[0].tick_params(axis='y', labelsize=12)\n",
    "axes[0].set_title(\"Pitch vs. Time\", fontsize=14)\n",
    "axes[0].grid()\n",
    "\n",
    "# Create a plot of the torque versus time on the second plot\n",
    "axes[1].plot(data['time'], data['tau_l'], label=\"Left Torque\", c='r', lw=2.5)\n",
    "axes[1].plot(data['time'], data['tau_r'], label=\"Right Torque\", c='b', lw=2.5)\n",
    "axes[1].set_xlabel(\"Time [s]\", fontsize=12)\n",
    "axes[1].set_ylabel(\"Torque [Nm]\", fontsize=12)\n",
    "axes[1].tick_params(axis='y', labelsize=12)\n",
    "axes[1].legend(fontsize=12, shadow=True)\n",
    "axes[1].set_title(\"Torque vs. Time\", fontsize=14)\n",
    "axes[1].grid()\n",
    "\n",
    "# Show the figure\n",
    "fig.tight_layout(pad=2.0)\n",
    "plt.show()"
   ]
  }
 ],
 "metadata": {
  "kernelspec": {
   "display_name": "Python 3 (ipykernel)",
   "language": "python",
   "name": "python3"
  },
  "language_info": {
   "codemirror_mode": {
    "name": "ipython",
    "version": 3
   },
   "file_extension": ".py",
   "mimetype": "text/x-python",
   "name": "python",
   "nbconvert_exporter": "python",
   "pygments_lexer": "ipython3",
   "version": "3.10.11"
  }
 },
 "nbformat": 4,
 "nbformat_minor": 5
}
