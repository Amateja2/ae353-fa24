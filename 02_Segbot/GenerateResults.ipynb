{
 "cells": [
  {
   "cell_type": "markdown",
   "id": "bfbe3b46-48c9-4c33-8edf-b475e22b1438",
   "metadata": {
    "jp-MarkdownHeadingCollapsed": true
   },
   "source": [
    "# You may use this as a template for your code and code report. If you do, you MUST remove Markdown cells that were not authored by you."
   ]
  },
  {
   "cell_type": "markdown",
   "id": "78a30e88-b28f-484e-b4cf-cfefa9e8affb",
   "metadata": {
    "jp-MarkdownHeadingCollapsed": true
   },
   "source": [
    "## FIXME: System Linearization and State Space Form"
   ]
  },
  {
   "cell_type": "code",
   "execution_count": 1,
   "id": "389df60e",
   "metadata": {},
   "outputs": [
    {
     "data": {
      "text/latex": [
       "$\\displaystyle \\left[\\begin{matrix}v \\sin{\\left(\\phi \\right)}\\\\\\frac{- 18.4325593081475 \\tau_{l} - 18.4325593081475 \\tau_{r} - 14.377396260355 \\left(\\dot{\\phi}^{2} + \\dot{\\theta}^{2}\\right) \\sin{\\left(\\theta \\right)} + 37.4411360946746 \\cdot \\left(0.48 \\dot{\\phi}^{2} \\sin{\\left(2 \\theta \\right)} - \\tau_{l} - \\tau_{r} + 23.544 \\sin{\\left(\\theta \\right)}\\right) \\cos{\\left(\\theta \\right)}}{89.858726627219 \\cos^{2}{\\left(\\theta \\right)} - 93.4559114706628}\\\\\\frac{- 1.056 \\dot{\\phi} \\dot{\\theta} \\sin{\\left(2 \\theta \\right)} - 2.4 \\dot{\\phi} v \\sin{\\left(\\theta \\right)} - 1.07692307692308 \\tau_{l} + 1.07692307692308 \\tau_{r}}{0.96 \\sin^{2}{\\left(\\theta \\right)} + 1.02645798816568}\\\\\\frac{- 7.48822721893491 \\dot{\\phi}^{2} \\sin{\\left(2 \\theta \\right)} + 15.6004733727811 \\tau_{l} + 15.6004733727811 \\tau_{r} + 2.4 \\cdot \\left(3.07692307692308 \\tau_{l} + 3.07692307692308 \\tau_{r} + 2.4 \\left(\\dot{\\phi}^{2} + \\dot{\\theta}^{2}\\right) \\sin{\\left(\\theta \\right)}\\right) \\cos{\\left(\\theta \\right)} - 367.297545088757 \\sin{\\left(\\theta \\right)}}{5.76 \\cos^{2}{\\left(\\theta \\right)} - 5.99058177514793}\\end{matrix}\\right]$"
      ],
      "text/plain": [
       "⎡                                                                             \n",
       "⎢                                                                             \n",
       "⎢                                                                             \n",
       "⎢                -18.4325593081475⋅τₗ - 18.4325593081475⋅τᵣ - 14.377396260355⋅\n",
       "⎢                ─────────────────────────────────────────────────────────────\n",
       "⎢                                                                             \n",
       "⎢                                                                     89.85872\n",
       "⎢                                                                             \n",
       "⎢                                                  -1.056⋅φ̇⋅θ̇⋅sin(2⋅θ) - 2.4\n",
       "⎢                                                  ───────────────────────────\n",
       "⎢                                                                             \n",
       "⎢                                                                          0.9\n",
       "⎢                                                                             \n",
       "⎢                    2                                                        \n",
       "⎢- 7.48822721893491⋅φ̇ ⋅sin(2⋅θ) + 15.6004733727811⋅τₗ + 15.6004733727811⋅τᵣ +\n",
       "⎢─────────────────────────────────────────────────────────────────────────────\n",
       "⎢                                                                             \n",
       "⎣                                                                          5.7\n",
       "\n",
       "         v⋅sin(φ)                                                             \n",
       "                                                                              \n",
       "⎛ 2    2⎞                           ⎛      2                                  \n",
       "⎝φ̇  + θ̇ ⎠⋅sin(θ) + 37.4411360946746⋅⎝0.48⋅φ̇ ⋅sin(2⋅θ) - τₗ - τᵣ + 23.544⋅si\n",
       "──────────────────────────────────────────────────────────────────────────────\n",
       "           2                                                                  \n",
       "6627219⋅cos (θ) - 93.4559114706628                                            \n",
       "                                                                              \n",
       "⋅φ̇⋅v⋅sin(θ) - 1.07692307692308⋅τₗ + 1.07692307692308⋅τᵣ                      \n",
       "─────────────────────────────────────────────────────                         \n",
       "     2                                                                        \n",
       "6⋅sin (θ) + 1.02645798816568                                                  \n",
       "                                                                              \n",
       "    ⎛                                                ⎛ 2    2⎞       ⎞        \n",
       " 2.4⋅⎝3.07692307692308⋅τₗ + 3.07692307692308⋅τᵣ + 2.4⋅⎝φ̇  + θ̇ ⎠⋅sin(θ)⎠⋅cos(\n",
       "──────────────────────────────────────────────────────────────────────────────\n",
       "     2                                                                        \n",
       "6⋅cos (θ) - 5.99058177514793                                                  \n",
       "\n",
       "                         ⎤\n",
       "                         ⎥\n",
       " ⎞                       ⎥\n",
       "n(θ)⎠⋅cos(θ)                ⎥\n",
       "─────────                ⎥\n",
       "                         ⎥\n",
       "                         ⎥\n",
       "                         ⎥\n",
       "                            ⎥\n",
       "                         ⎥\n",
       "                         ⎥\n",
       "                         ⎥\n",
       "                         ⎥\n",
       "                         ⎥\n",
       "θ) - 367.297545088757⋅sin(θ)⎥\n",
       "─────────────────────────⎥\n",
       "                         ⎥\n",
       "                         ⎦"
      ]
     },
     "execution_count": 1,
     "metadata": {},
     "output_type": "execute_result"
    }
   ],
   "source": [
    "# Import everything we need from SymPy\n",
    "import sympy as sym\n",
    "import numpy as np\n",
    "from sympy import Symbol, Matrix\n",
    "from sympy import N as N_sympy\n",
    "from sympy import simplify, sin, cos, init_printing\n",
    "init_printing() # This function will make the outputs of SymPy look prettier and be easier to read\n",
    "\n",
    "# Constants of the system\n",
    "m_c = 12.0    # Mass of the chassis in kg\n",
    "ixx_c = 1.0   # Roll mass moment of ineria of the chassis\n",
    "iyy_c = 0.8   # Pitch mass moment of interia of the chassis\n",
    "izz_c = 0.52  # Yaw mass moment of interia of the chassis\n",
    "\n",
    "m_w = 1.2       # Mass of either wheel in kg\n",
    "iaa_w = 0.0634  # Axial mass moment of interia of the wheels\n",
    "itt_w = 0.0327  # Transverse mass moment of interia of the wheels\n",
    "r_w = 0.325     # Radius of either wheel in meters\n",
    "\n",
    "m = m_c + 2*m_w        # The total mass of the system\n",
    "ixx = ixx_c + 2*itt_w  # The total roll mass moment of inertia of the system\n",
    "iyy = iyy_c            # The total pitch mass moment of inertia of the system\n",
    "izz = izz_c + 2*itt_w  # The total yaw mass moment of inertia of the system\n",
    "\n",
    "h = 0.2   # Distance from the CoM of the chassis to wheel axle in meters\n",
    "a = 0.35  # Half the distance between the wheels in meters\n",
    "\n",
    "r_station = 20.0  # The radius of the station in meters\n",
    "v_station = -0.1  # The angular velocity of the station in rad/second\n",
    "\n",
    "# Create the system's generalized coordinates \n",
    "e_lat = Symbol('e_lat')          # The lateral error of the segbot. Positive is to the left of the target position.\n",
    "phi = Symbol('phi')              # The yaw of the chassis of the segbot relative to the station. Positive is facing left.\n",
    "phidot = Symbol('phidot')        # The yawing velocity of the segbot relative to the station. Positive is turning left.\n",
    "v = Symbol('v')                  # The forward velocity of the segbot. Positive is moving forward.\n",
    "theta = Symbol('theta')          # The pitch of the chassis of the segbot. Positive is tipped forwards.\n",
    "thetadot = Symbol('thetadot')    # The pitching velocity of the segbot. Positive is tipping forward.\n",
    "tau_l = Symbol('tau_l')          # The torque applied to the left wheel of the segbot. Positive moves the segbot forward.\n",
    "tau_r = Symbol('tau_r')          # The torque applied to the right wheel of the segbot. Positive moves the segbot forward.\n",
    "\n",
    "M = Matrix([[m + 2 * iaa_w / r_w**2, 0, m_c * h * cos(theta)],\n",
    "            [0, (ixx + m_c * h**2) * sin(theta)**2 + izz * cos(theta)**2 + (2 * iaa_w * a**2 / r_w**2) + 2 * m_w * a**2, 0],\n",
    "            [m_c * h * cos(theta), 0, iyy * m_c * h**2]])\n",
    "N = Matrix([[m_c * h * (phidot**2 + thetadot**2) * sin(theta)],\n",
    "            [-2 * (ixx - izz + m * h**2) * cos(theta) * sin(theta) * phidot * thetadot - m_c * h * sin(theta) * v * phidot],\n",
    "            [(ixx - izz + m_c * h**2) * cos(theta) * sin(theta) * phidot**2 + m_c * 9.81 * h * sin(theta)]])\n",
    "R = Matrix([[1 / r_w, 1 / r_w],\n",
    "            [-a / r_w, a / r_w],\n",
    "            [-1, -1]])\n",
    "f_partial = simplify(M.inv() * (N + R * Matrix([[tau_l], [tau_r]])))\n",
    "f = Matrix([[v * sin(phi)],\n",
    "            [f_partial]])\n",
    "f = simplify(f)\n",
    "f\n"
   ]
  },
  {
   "cell_type": "code",
   "execution_count": 2,
   "id": "bd0774ab-48d9-4a28-ae54-401ff5fbadaf",
   "metadata": {},
   "outputs": [
    {
     "data": {
      "text/latex": [
       "$\\displaystyle \\left( \\left[\\begin{matrix}0 & 0 & 0 & 0 & 0 & 0\\\\0 & 0 & 0 & 0 & -245.056661411115 & 0\\\\0 & 0 & 0 & 0 & 0 & 0\\\\0 & 0 & 0 & 0 & 1592.91663381947 & 0\\end{matrix}\\right], \\  \\left[\\begin{matrix}0 & 0\\\\15.5326172644856 & 15.5326172644856\\\\-1.04916430028235 & 1.04916430028235\\\\-99.6830245697014 & -99.6830245697014\\end{matrix}\\right]\\right)$"
      ],
      "text/plain": [
       "⎛⎡0  0  0  0          0          0⎤  ⎡        0                  0        ⎤⎞\n",
       "⎜⎢                                ⎥  ⎢                                    ⎥⎟\n",
       "⎜⎢0  0  0  0  -245.056661411115  0⎥  ⎢15.5326172644856   15.5326172644856 ⎥⎟\n",
       "⎜⎢                                ⎥, ⎢                                    ⎥⎟\n",
       "⎜⎢0  0  0  0          0          0⎥  ⎢-1.04916430028235  1.04916430028235 ⎥⎟\n",
       "⎜⎢                                ⎥  ⎢                                    ⎥⎟\n",
       "⎝⎣0  0  0  0  1592.91663381947   0⎦  ⎣-99.6830245697014  -99.6830245697014⎦⎠"
      ]
     },
     "execution_count": 2,
     "metadata": {},
     "output_type": "execute_result"
    }
   ],
   "source": [
    "# FIXME: Find an equilibrium point and linearize the system into state space form\n",
    "\n",
    "# Perform linearization around equilibrium (assuming small angles and zero velocities/inputs)\n",
    "equilibrium = {e_lat: 0, phi: 0, phidot: 0, v: 0, theta: 0, thetadot: 0, tau_l: 0, tau_r: 0}\n",
    "\n",
    "# Redefine the state vector to include 'v'\n",
    "state_vector = Matrix([e_lat, phi, phidot, v, theta, thetadot])  # Extended state vector including 'v'\n",
    "input_vector = Matrix([tau_l, tau_r])\n",
    "# Recompute the Jacobians for the extended state vector\n",
    "A_jacobian_full = f.jacobian(state_vector)\n",
    "B_jacobian_full = f.jacobian(input_vector)\n",
    "\n",
    "# Substitute equilibrium values to get the linearized A and B matrices, now including 'v'\n",
    "A_eq = A_jacobian_full.subs(equilibrium)\n",
    "B_eq = B_jacobian_full.subs(equilibrium)\n",
    "\n",
    "# Display the updated linearized matrices\n",
    "A_eq, B_eq"
   ]
  },
  {
   "cell_type": "markdown",
   "id": "e05bc4c1",
   "metadata": {},
   "source": [
    "## Check Controllability"
   ]
  },
  {
   "cell_type": "code",
   "execution_count": 5,
   "id": "4384055a",
   "metadata": {},
   "outputs": [
    {
     "ename": "LinAlgError",
     "evalue": "Last 2 dimensions of the array must be square",
     "output_type": "error",
     "traceback": [
      "\u001b[1;31m---------------------------------------------------------------------------\u001b[0m",
      "\u001b[1;31mLinAlgError\u001b[0m                               Traceback (most recent call last)",
      "Cell \u001b[1;32mIn[5], line 17\u001b[0m\n\u001b[0;32m     14\u001b[0m     \u001b[38;5;28;01mreturn\u001b[39;00m controllability\n\u001b[0;32m     16\u001b[0m \u001b[38;5;66;03m# Compute the controllability matrix\u001b[39;00m\n\u001b[1;32m---> 17\u001b[0m Ctrb \u001b[38;5;241m=\u001b[39m \u001b[43mcontrollability_matrix\u001b[49m\u001b[43m(\u001b[49m\u001b[43mA_num\u001b[49m\u001b[43m,\u001b[49m\u001b[43m \u001b[49m\u001b[43mB_num\u001b[49m\u001b[43m)\u001b[49m\n\u001b[0;32m     19\u001b[0m \u001b[38;5;66;03m# Compute its rank\u001b[39;00m\n\u001b[0;32m     20\u001b[0m rank \u001b[38;5;241m=\u001b[39m np\u001b[38;5;241m.\u001b[39mlinalg\u001b[38;5;241m.\u001b[39mmatrix_rank(Ctrb)\n",
      "Cell \u001b[1;32mIn[5], line 13\u001b[0m, in \u001b[0;36mcontrollability_matrix\u001b[1;34m(A, B)\u001b[0m\n\u001b[0;32m     11\u001b[0m controllability \u001b[38;5;241m=\u001b[39m B\n\u001b[0;32m     12\u001b[0m \u001b[38;5;28;01mfor\u001b[39;00m i \u001b[38;5;129;01min\u001b[39;00m \u001b[38;5;28mrange\u001b[39m(\u001b[38;5;241m1\u001b[39m, n):\n\u001b[1;32m---> 13\u001b[0m     controllability \u001b[38;5;241m=\u001b[39m np\u001b[38;5;241m.\u001b[39mhstack((controllability, \u001b[43mnp\u001b[49m\u001b[38;5;241;43m.\u001b[39;49m\u001b[43mlinalg\u001b[49m\u001b[38;5;241;43m.\u001b[39;49m\u001b[43mmatrix_power\u001b[49m\u001b[43m(\u001b[49m\u001b[43mA\u001b[49m\u001b[43m,\u001b[49m\u001b[43m \u001b[49m\u001b[43mi\u001b[49m\u001b[43m)\u001b[49m \u001b[38;5;241m@\u001b[39m B))\n\u001b[0;32m     14\u001b[0m \u001b[38;5;28;01mreturn\u001b[39;00m controllability\n",
      "File \u001b[1;32mc:\\Users\\adamm\\AppData\\Local\\Programs\\Python\\Python312\\Lib\\site-packages\\numpy\\linalg\\linalg.py:636\u001b[0m, in \u001b[0;36mmatrix_power\u001b[1;34m(a, n)\u001b[0m\n\u001b[0;32m    634\u001b[0m a \u001b[38;5;241m=\u001b[39m asanyarray(a)\n\u001b[0;32m    635\u001b[0m _assert_stacked_2d(a)\n\u001b[1;32m--> 636\u001b[0m \u001b[43m_assert_stacked_square\u001b[49m\u001b[43m(\u001b[49m\u001b[43ma\u001b[49m\u001b[43m)\u001b[49m\n\u001b[0;32m    638\u001b[0m \u001b[38;5;28;01mtry\u001b[39;00m:\n\u001b[0;32m    639\u001b[0m     n \u001b[38;5;241m=\u001b[39m operator\u001b[38;5;241m.\u001b[39mindex(n)\n",
      "File \u001b[1;32mc:\\Users\\adamm\\AppData\\Local\\Programs\\Python\\Python312\\Lib\\site-packages\\numpy\\linalg\\linalg.py:213\u001b[0m, in \u001b[0;36m_assert_stacked_square\u001b[1;34m(*arrays)\u001b[0m\n\u001b[0;32m    211\u001b[0m m, n \u001b[38;5;241m=\u001b[39m a\u001b[38;5;241m.\u001b[39mshape[\u001b[38;5;241m-\u001b[39m\u001b[38;5;241m2\u001b[39m:]\n\u001b[0;32m    212\u001b[0m \u001b[38;5;28;01mif\u001b[39;00m m \u001b[38;5;241m!=\u001b[39m n:\n\u001b[1;32m--> 213\u001b[0m     \u001b[38;5;28;01mraise\u001b[39;00m LinAlgError(\u001b[38;5;124m'\u001b[39m\u001b[38;5;124mLast 2 dimensions of the array must be square\u001b[39m\u001b[38;5;124m'\u001b[39m)\n",
      "\u001b[1;31mLinAlgError\u001b[0m: Last 2 dimensions of the array must be square"
     ]
    }
   ],
   "source": [
    "import numpy as np\n",
    "from sympy import Matrix\n",
    "\n",
    "# Convert SymPy matrices to NumPy for numerical computations\n",
    "A_num = np.array(A_eq).astype(np.float64)\n",
    "B_num = np.array(B_eq).astype(np.float64)\n",
    "\n",
    "# Define a function to compute the controllability matrix\n",
    "def controllability_matrix(A, B):\n",
    "    n = A.shape[0]\n",
    "    controllability = B\n",
    "    for i in range(1, n):\n",
    "        controllability = np.hstack((controllability, np.linalg.matrix_power(A, i) @ B))\n",
    "    return controllability\n",
    "\n",
    "# Compute the controllability matrix\n",
    "Ctrb = controllability_matrix(A_num, B_num)\n",
    "\n",
    "# Compute its rank\n",
    "rank = np.linalg.matrix_rank(Ctrb)\n",
    "\n",
    "print(f\"Controllability Matrix Rank: {rank} / {A_num.shape[0]}\")"
   ]
  },
  {
   "cell_type": "markdown",
   "id": "5309a767-b2bb-44a7-bb9c-d915946bdc1a",
   "metadata": {
    "jp-MarkdownHeadingCollapsed": true
   },
   "source": [
    "## Gain Selection and Controller Design"
   ]
  },
  {
   "cell_type": "markdown",
   "id": "407fc35d",
   "metadata": {},
   "source": [
    "## Feedback Controller and Gains"
   ]
  },
  {
   "cell_type": "code",
   "execution_count": 3,
   "id": "bc37a455",
   "metadata": {},
   "outputs": [],
   "source": [
    "class FeedbackController:\n",
    "    def __init__(self, Kp, Ki, Kd, setpoint=0):\n",
    "        self.Kp = Kp\n",
    "        self.Ki = Ki\n",
    "        self.Kd = Kd\n",
    "        self.setpoint = setpoint\n",
    "        self.integral = 0\n",
    "        self.prev_error = 0\n",
    "\n",
    "    def update(self, current_value, dt):\n",
    "        error = self.setpoint - current_value\n",
    "        self.integral += error * dt\n",
    "        derivative = (error - self.prev_error) / dt if dt > 0 else 0\n",
    "        output = self.Kp * error + self.Ki * self.integral + self.Kd * derivative\n",
    "        self.prev_error = error\n",
    "        return output"
   ]
  },
  {
   "cell_type": "code",
   "execution_count": 24,
   "id": "06cc22bb-fde2-479e-82b7-173e9611699c",
   "metadata": {},
   "outputs": [],
   "source": [
    "# Necessary imports\n",
    "from scipy.linalg import solve_continuous_are\n",
    "import numpy as np\n",
    "\n",
    "# Controller class\n",
    "class Controller():\n",
    "    def __init__(self):\n",
    "\n",
    "        self.pid_elat = FeedbackController(Kp=10.0, Ki=2.0, Kd=1)     # Lateral error control\n",
    "        self.pid_phi = FeedbackController(Kp=10.0, Ki=1.0, Kd=0.1)      # Heading error control\n",
    "        self.pid_phidot = FeedbackController(Kp=3.0, Ki=0.5, Kd=0.1)   # Yaw velocity control\n",
    "        self.pid_theta = FeedbackController(Kp=200.0, Ki=3, Kd=1)   # Pitch angle control\n",
    "\n",
    "    def reset(self):\n",
    "        pass        \n",
    "\n",
    "    def run(self, **kwargs):\n",
    "        # Extract the system states\n",
    "        e_lat = kwargs[\"e_lat\"]         # Lateral error\n",
    "        phi = kwargs[\"phi\"]             # Heading error (yaw)\n",
    "        phidot = kwargs[\"phidot\"]       # Yaw velocity\n",
    "        theta = kwargs[\"theta\"]         # Pitch angle\n",
    "        dt = 0.0001              # Time step\n",
    "\n",
    "        # Update PID controllers for e_lat, phi, phidot, and theta\n",
    "        pid_elat_output = self.pid_elat.update(e_lat, dt)\n",
    "        pid_phi_output = self.pid_phi.update(phi, dt)\n",
    "        pid_phidot_output = self.pid_phidot.update(phidot, dt)\n",
    "        pid_theta_output = self.pid_theta.update(theta, dt)\n",
    "\n",
    "        # Combine the PID outputs to calculate the control effort (wheel torques)\n",
    "        # Adjust to ensure that lateral error correction drives movement towards the center of the ring\n",
    "        left_torque = pid_elat_output + pid_phi_output + pid_theta_output + pid_phidot_output\n",
    "        right_torque = -pid_elat_output - pid_phi_output + pid_theta_output - pid_phidot_output\n",
    "\n",
    "        # Return the control inputs (left and right wheel torques)\n",
    "        inputs = [-left_torque, -right_torque]\n",
    "        return inputs"
   ]
  },
  {
   "cell_type": "code",
   "execution_count": 25,
   "id": "91f99c2f-26ef-4515-875c-d5be5505ff4b",
   "metadata": {},
   "outputs": [],
   "source": [
    "# Create an instance of our Controller class\n",
    "controller = Controller()"
   ]
  },
  {
   "cell_type": "markdown",
   "id": "fdd5aa72-f4c6-4b4e-bb66-08bd4ceda7c9",
   "metadata": {
    "jp-MarkdownHeadingCollapsed": true
   },
   "source": [
    "## Running the Simulation"
   ]
  },
  {
   "cell_type": "markdown",
   "id": "a71636ba-cd6d-4ad5-8e31-1457f4111c72",
   "metadata": {},
   "source": [
    "Before we run the simulation, we must first import the simulation module and then create an instance of the simulator. This is done below:"
   ]
  },
  {
   "cell_type": "code",
   "execution_count": 26,
   "id": "e5146cf2-bb6b-4a56-ab66-08917b5d03c6",
   "metadata": {},
   "outputs": [],
   "source": [
    "# Import the segbot project. This module is used to simulate, render, and plot a segbot dynamic system\n",
    "import ae353_segbot"
   ]
  },
  {
   "cell_type": "code",
   "execution_count": 27,
   "id": "80c2d1df-5247-44cf-9de7-35c4d85780d5",
   "metadata": {},
   "outputs": [
    {
     "name": "stdout",
     "output_type": "stream",
     "text": [
      "You can open the visualizer by visiting the following URL:\n",
      "http://127.0.0.1:7025/static/\n"
     ]
    }
   ],
   "source": [
    "sim = ae353_segbot.Segbot_sim(use_keyboard=True,\n",
    "                              visualization=True,\n",
    "                              animation=False,\n",
    "                              bumpy=False)"
   ]
  },
  {
   "cell_type": "code",
   "execution_count": 28,
   "id": "75fefa5c-d205-44cc-84fb-0896513a6cec",
   "metadata": {},
   "outputs": [
    {
     "name": "stdout",
     "output_type": "stream",
     "text": [
      "PRESS ENTER TO START SIMULATION.\n",
      "PRESS ESC TO QUIT.\n",
      "PRESS SPACE TO PAUSE/RESUME SIMULATION.\n",
      "PRESS BACKSPACE TO RESET SIMULATION.\n",
      "CONTINUING...\n",
      "QUITTING...\n"
     ]
    },
    {
     "name": "stdout",
     "output_type": "stream",
     "text": [
      "Termination command detected. Terminating keyboard listener. Goodbye\n"
     ]
    }
   ],
   "source": [
    "# Run the simulation and collect the simulation data\n",
    "data = sim.run(controller,\n",
    "               max_time=None,\n",
    "               initial_e_lat = 0.0,\n",
    "               station_velocity = -0.1)"
   ]
  },
  {
   "cell_type": "markdown",
   "id": "0fadfcf6-c9d5-4d87-9ff7-8665522883e3",
   "metadata": {
    "jp-MarkdownHeadingCollapsed": true
   },
   "source": [
    "## FIXME: Post-processing the simulation data"
   ]
  },
  {
   "cell_type": "markdown",
   "id": "4d9710b3-e018-4921-839c-ff40946ef1f8",
   "metadata": {},
   "source": [
    "After the simulation is run, we can plot the data using the Matplotlib package. To start, we import matplotlib and numpy."
   ]
  },
  {
   "cell_type": "code",
   "execution_count": null,
   "id": "5b23ea45-dabd-46f3-b3aa-148dd30d4f64",
   "metadata": {},
   "outputs": [],
   "source": [
    "# Import the pyplot module from the matplotlib package\n",
    "import matplotlib.pyplot as plt\n",
    "\n",
    "# Import numpy\n",
    "import numpy as np"
   ]
  },
  {
   "cell_type": "markdown",
   "id": "fcc05165-85a1-43f4-9ea7-e3a84d795869",
   "metadata": {},
   "source": [
    "Now we can make whichever plots we see fit to make sense of the simulation data. Here we plot the pitch versus time as well as the applied torques versus time.\n",
    "\n",
    "**THIS IS LEFT INTENTIONALLY AS INSUFFICIENT TO PROVE YOUR CONTROLLER CAN STEER THE SEGBOT.**"
   ]
  },
  {
   "cell_type": "code",
   "execution_count": null,
   "id": "815349ed-356a-4194-bd7c-35db59ea26e9",
   "metadata": {},
   "outputs": [],
   "source": [
    "# Create a figure that has two plots in it\n",
    "fig, axes = plt.subplots(2, 1, figsize=(7.2, 5.4), sharex=True)\n",
    "\n",
    "# Create a plot of the pitch angle versus time on the first plot\n",
    "axes[0].plot(data['time'], 180.*np.array(data['theta'])/np.pi, c='k', lw=2.5)\n",
    "axes[0].set_ylabel(\"Pitch [deg]\", fontsize=12)\n",
    "axes[0].tick_params(axis='y', labelsize=12)\n",
    "axes[0].set_title(\"Pitch vs. Time\", fontsize=14)\n",
    "axes[0].grid()\n",
    "\n",
    "# Create a plot of the torque versus time on the second plot\n",
    "axes[1].plot(data['time'], data['tau_l'], label=\"Left Torque\", c='r', lw=2.5)\n",
    "axes[1].plot(data['time'], data['tau_r'], label=\"Right Torque\", c='b', lw=2.5)\n",
    "axes[1].set_xlabel(\"Time [s]\", fontsize=12)\n",
    "axes[1].set_ylabel(\"Torque [Nm]\", fontsize=12)\n",
    "axes[1].tick_params(axis='y', labelsize=12)\n",
    "axes[1].legend(fontsize=12, shadow=True)\n",
    "axes[1].set_title(\"Torque vs. Time\", fontsize=14)\n",
    "axes[1].grid()\n",
    "\n",
    "# Show the figure\n",
    "fig.tight_layout(pad=2.0)\n",
    "plt.show()"
   ]
  }
 ],
 "metadata": {
  "kernelspec": {
   "display_name": "Python 3",
   "language": "python",
   "name": "python3"
  },
  "language_info": {
   "codemirror_mode": {
    "name": "ipython",
    "version": 3
   },
   "file_extension": ".py",
   "mimetype": "text/x-python",
   "name": "python",
   "nbconvert_exporter": "python",
   "pygments_lexer": "ipython3",
   "version": "3.12.1"
  }
 },
 "nbformat": 4,
 "nbformat_minor": 5
}
